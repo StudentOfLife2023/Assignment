{
  "nbformat": 4,
  "nbformat_minor": 0,
  "metadata": {
    "colab": {
      "provenance": []
    },
    "kernelspec": {
      "name": "python3",
      "display_name": "Python 3"
    },
    "language_info": {
      "name": "python"
    }
  },
  "cells": [
    {
      "cell_type": "code",
      "execution_count": 5,
      "metadata": {
        "id": "jfsswQ-iZQxw",
        "colab": {
          "base_uri": "https://localhost:8080/"
        },
        "outputId": "09bf67cc-61aa-45ca-a534-848cc1d775e6"
      },
      "outputs": [
        {
          "output_type": "stream",
          "name": "stdout",
          "text": [
            "Collecting chart_studio\n",
            "  Downloading chart_studio-1.1.0-py3-none-any.whl (64 kB)\n",
            "\u001b[2K     \u001b[90m━━━━━━━━━━━━━━━━━━━━━━━━━━━━━━━━━━━━━━━━\u001b[0m \u001b[32m64.4/64.4 kB\u001b[0m \u001b[31m610.7 kB/s\u001b[0m eta \u001b[36m0:00:00\u001b[0m\n",
            "\u001b[?25hRequirement already satisfied: plotly in /usr/local/lib/python3.10/dist-packages (from chart_studio) (5.15.0)\n",
            "Requirement already satisfied: requests in /usr/local/lib/python3.10/dist-packages (from chart_studio) (2.31.0)\n",
            "Collecting retrying>=1.3.3 (from chart_studio)\n",
            "  Downloading retrying-1.3.4-py3-none-any.whl (11 kB)\n",
            "Requirement already satisfied: six in /usr/local/lib/python3.10/dist-packages (from chart_studio) (1.16.0)\n",
            "Requirement already satisfied: tenacity>=6.2.0 in /usr/local/lib/python3.10/dist-packages (from plotly->chart_studio) (8.2.3)\n",
            "Requirement already satisfied: packaging in /usr/local/lib/python3.10/dist-packages (from plotly->chart_studio) (23.2)\n",
            "Requirement already satisfied: charset-normalizer<4,>=2 in /usr/local/lib/python3.10/dist-packages (from requests->chart_studio) (3.3.1)\n",
            "Requirement already satisfied: idna<4,>=2.5 in /usr/local/lib/python3.10/dist-packages (from requests->chart_studio) (3.4)\n",
            "Requirement already satisfied: urllib3<3,>=1.21.1 in /usr/local/lib/python3.10/dist-packages (from requests->chart_studio) (2.0.7)\n",
            "Requirement already satisfied: certifi>=2017.4.17 in /usr/local/lib/python3.10/dist-packages (from requests->chart_studio) (2023.7.22)\n",
            "Installing collected packages: retrying, chart_studio\n",
            "Successfully installed chart_studio-1.1.0 retrying-1.3.4\n"
          ]
        }
      ],
      "source": [
        "import pandas as pd\n",
        "from sklearn.preprocessing import MinMaxScaler\n",
        "from sklearn.model_selection import train_test_split\n",
        "from sklearn.ensemble import RandomForestRegressor, GradientBoostingRegressor\n",
        "from sklearn.svm import SVR\n",
        "from sklearn.model_selection import GridSearchCV\n",
        "from sklearn.linear_model import LinearRegression\n",
        "from sklearn.metrics import mean_squared_error\n",
        "\n",
        "import matplotlib.pyplot as plt\n",
        "import plotly as py\n",
        "!pip install chart_studio\n",
        "import chart_studio.plotly as py\n",
        "import seaborn as sns\n",
        "import plotly.express as px\n",
        "import plotly.graph_objs as go"
      ]
    },
    {
      "cell_type": "code",
      "source": [
        "data = pd.read_csv('city_day.csv')\n",
        "print(data.head())"
      ],
      "metadata": {
        "colab": {
          "base_uri": "https://localhost:8080/"
        },
        "id": "4WgpTdTdabw7",
        "outputId": "c601308a-d1ba-49b6-f690-e2380b793756"
      },
      "execution_count": 2,
      "outputs": [
        {
          "output_type": "stream",
          "name": "stdout",
          "text": [
            "        City        Date  PM2.5  PM10     NO    NO2    NOx  NH3     CO    SO2  \\\n",
            "0  Ahmedabad  2015-01-01    NaN   NaN   0.92  18.22  17.15  NaN   0.92  27.64   \n",
            "1  Ahmedabad  2015-01-02    NaN   NaN   0.97  15.69  16.46  NaN   0.97  24.55   \n",
            "2  Ahmedabad  2015-01-03    NaN   NaN  17.40  19.30  29.70  NaN  17.40  29.07   \n",
            "3  Ahmedabad  2015-01-04    NaN   NaN   1.70  18.48  17.97  NaN   1.70  18.59   \n",
            "4  Ahmedabad  2015-01-05    NaN   NaN  22.10  21.42  37.76  NaN  22.10  39.33   \n",
            "\n",
            "       O3  Benzene  Toluene  Xylene  AQI AQI_Bucket  \n",
            "0  133.36     0.00     0.02    0.00  NaN        NaN  \n",
            "1   34.06     3.68     5.50    3.77  NaN        NaN  \n",
            "2   30.70     6.80    16.40    2.25  NaN        NaN  \n",
            "3   36.08     4.43    10.14    1.00  NaN        NaN  \n",
            "4   39.31     7.01    18.89    2.78  NaN        NaN  \n"
          ]
        }
      ]
    },
    {
      "cell_type": "markdown",
      "source": [
        "# **DATA PREPROCESSING**"
      ],
      "metadata": {
        "id": "Rqjm1a9DaZ2b"
      }
    },
    {
      "cell_type": "code",
      "source": [
        "def clean_data(data):\n",
        "    \"\"\" Fill missing values with mean \"\"\"\n",
        "    data_cleaned = data.fillna(data.mean())\n",
        "    return data_cleaned\n",
        "\n",
        "data_cleaned = clean_data(data)"
      ],
      "metadata": {
        "colab": {
          "base_uri": "https://localhost:8080/"
        },
        "id": "00piIZBEasNQ",
        "outputId": "7643af37-c15f-4acb-98b9-efa51b86345e"
      },
      "execution_count": 9,
      "outputs": [
        {
          "output_type": "stream",
          "name": "stderr",
          "text": [
            "<ipython-input-9-c488b4264e19>:3: FutureWarning:\n",
            "\n",
            "The default value of numeric_only in DataFrame.mean is deprecated. In a future version, it will default to False. In addition, specifying 'numeric_only=None' is deprecated. Select only valid columns or specify the value of numeric_only to silence this warning.\n",
            "\n"
          ]
        }
      ]
    },
    {
      "cell_type": "code",
      "source": [
        "def transform_data(data):\n",
        "    \"\"\" Scale data columns using MinMaxScaler \"\"\"\n",
        "    scaler = MinMaxScaler()\n",
        "    cols_to_scale = ['PM2.5', 'PM10', 'NO', 'NO2', 'NOx', 'NH3', 'CO', 'SO2', 'O3', 'Benzene', 'Toluene', 'Xylene', 'AQI']\n",
        "    data[cols_to_scale] = scaler.fit_transform(data[cols_to_scale])\n",
        "    return data\n",
        "\n",
        "data_transformed = transform_data(data_cleaned)"
      ],
      "metadata": {
        "id": "ML4kCU1Ba7Dc"
      },
      "execution_count": 10,
      "outputs": []
    },
    {
      "cell_type": "markdown",
      "source": [
        "# **FEATURE SELECTION**"
      ],
      "metadata": {
        "id": "GvOyvMyVahXy"
      }
    },
    {
      "cell_type": "code",
      "source": [
        "def feature_engineering(data):\n",
        "    \"\"\" Create a new feature combining two pollutants \"\"\"\n",
        "    data['Feature_PM2.5_PM10'] = data['PM2.5'] + data['PM10']\n",
        "    return data\n",
        "\n",
        "data_engineered = feature_engineering(data_transformed)"
      ],
      "metadata": {
        "id": "H1hd06SqbQ5n"
      },
      "execution_count": 11,
      "outputs": []
    },
    {
      "cell_type": "code",
      "source": [
        "from google.colab import drive\n",
        "drive.mount(\"/drive\")\n",
        "def handle_outliers(data, column):\n",
        "    \"\"\" Remove outliers based on IQR for a given column \"\"\"\n",
        "    Q1 = data[column].quantile(0.25)\n",
        "    Q3 = data[column].quantile(0.75)\n",
        "    IQR = Q3 - Q1\n",
        "    lower_bound = Q1 - 1.5 * IQR\n",
        "    upper_bound = Q3 + 1.5 * IQR\n",
        "    data = data[(data[column] >= lower_bound) & (data[column] <= upper_bound)]\n",
        "    return data\n",
        "\n",
        "data_without_outliers = handle_outliers(data_engineered, 'PM2.5')\n",
        "\n",
        "data_without_outliers.to_csv('preprocessed.csv')"
      ],
      "metadata": {
        "id": "oFYGTb8hbdUa",
        "colab": {
          "base_uri": "https://localhost:8080/"
        },
        "outputId": "ae6bb163-848a-4cf7-eaf7-aaf6b25880ce"
      },
      "execution_count": 77,
      "outputs": [
        {
          "output_type": "stream",
          "name": "stdout",
          "text": [
            "Mounted at /drive\n"
          ]
        }
      ]
    },
    {
      "cell_type": "markdown",
      "source": [
        "# **Data Visualization - Creating Correlation using heatmap**"
      ],
      "metadata": {
        "id": "U-1i83IurdJg"
      }
    },
    {
      "cell_type": "code",
      "source": [
        "# we use coorelation to find the relation between the one variable to itself.\n",
        "\n",
        "sns.heatmap(data_without_outliers.corr(),annot = True, linewidths = 0.1 )"
      ],
      "metadata": {
        "colab": {
          "base_uri": "https://localhost:8080/",
          "height": 677
        },
        "id": "aFQDsqB0rRce",
        "outputId": "692096d6-2f5b-4276-f53e-c1df2b0118d5"
      },
      "execution_count": 23,
      "outputs": [
        {
          "output_type": "stream",
          "name": "stderr",
          "text": [
            "<ipython-input-23-1cc02b25b166>:3: FutureWarning:\n",
            "\n",
            "The default value of numeric_only in DataFrame.corr is deprecated. In a future version, it will default to False. Select only valid columns or specify the value of numeric_only to silence this warning.\n",
            "\n"
          ]
        },
        {
          "output_type": "execute_result",
          "data": {
            "text/plain": [
              "<Axes: >"
            ]
          },
          "metadata": {},
          "execution_count": 23
        },
        {
          "output_type": "display_data",
          "data": {
            "text/plain": [
              "<Figure size 640x480 with 2 Axes>"
            ],
            "image/png": "[encoded data removed]"
          },
          "metadata": {}
        }
      ]
    },
    {
      "cell_type": "code",
      "source": [
        "city_annual_avg=data_without_outliers.copy()\n",
        "city_annual_avg['Date'] = pd.to_datetime(city_annual_avg['Date'])\n",
        "city_annual_avg=city_annual_avg.groupby(['City', city_annual_avg.Date.dt.year]).mean().reset_index().rename(columns={'Date':'Year'})\n",
        "city_annual_avg\n",
        "#Data correlations\n",
        "city_annual_avg.corr().style.background_gradient(cmap='Oranges')"
      ],
      "metadata": {
        "colab": {
          "base_uri": "https://localhost:8080/",
          "height": 683
        },
        "id": "fM9MYv_-tTCj",
        "outputId": "8e9485a8-d518-42d0-eb8d-21e0826274de"
      },
      "execution_count": 24,
      "outputs": [
        {
          "output_type": "stream",
          "name": "stderr",
          "text": [
            "<ipython-input-24-d3b8f72f5bbc>:3: FutureWarning:\n",
            "\n",
            "The default value of numeric_only in DataFrameGroupBy.mean is deprecated. In a future version, numeric_only will default to False. Either specify numeric_only or select only columns which should be valid for the function.\n",
            "\n",
            "<ipython-input-24-d3b8f72f5bbc>:6: FutureWarning:\n",
            "\n",
            "The default value of numeric_only in DataFrame.corr is deprecated. In a future version, it will default to False. Select only valid columns or specify the value of numeric_only to silence this warning.\n",
            "\n"
          ]
        },
        {
          "output_type": "execute_result",
          "data": {
            "text/plain": [
              "<pandas.io.formats.style.Styler at 0x7d30c10a0730>"
            ],
            "text/html": [
              "<style type=\"text/css\">\n",
              "#T_71a34_row0_col0, #T_71a34_row1_col1, #T_71a34_row2_col2, #T_71a34_row3_col3, #T_71a34_row4_col4, #T_71a34_row5_col5, #T_71a34_row6_col6, #T_71a34_row7_col7, #T_71a34_row8_col8, #T_71a34_row9_col9, #T_71a34_row10_col10, #T_71a34_row11_col11, #T_71a34_row12_col12, #T_71a34_row13_col13, #T_71a34_row14_col14 {\n",
              "  background-color: #7f2704;\n",
              "  color: #f1f1f1;\n",
              "}\n",
              "#T_71a34_row0_col1, #T_71a34_row0_col2, #T_71a34_row0_col3, #T_71a34_row0_col4, #T_71a34_row0_col5, #T_71a34_row0_col6, #T_71a34_row0_col7, #T_71a34_row0_col11, #T_71a34_row0_col13, #T_71a34_row0_col14, #T_71a34_row2_col0, #T_71a34_row6_col8, #T_71a34_row9_col10, #T_71a34_row9_col12, #T_71a34_row12_col9, #T_71a34_row14_col0 {\n",
              "  background-color: #fff5eb;\n",
              "  color: #000000;\n",
              "}\n",
              "#T_71a34_row0_col8, #T_71a34_row10_col9 {\n",
              "  background-color: #fff1e4;\n",
              "  color: #000000;\n",
              "}\n",
              "#T_71a34_row0_col9 {\n",
              "  background-color: #feddbc;\n",
              "  color: #000000;\n",
              "}\n",
              "#T_71a34_row0_col10, #T_71a34_row12_col8 {\n",
              "  background-color: #feecd9;\n",
              "  color: #000000;\n",
              "}\n",
              "#T_71a34_row0_col12 {\n",
              "  background-color: #fdd3a9;\n",
              "  color: #000000;\n",
              "}\n",
              "#T_71a34_row1_col0 {\n",
              "  background-color: #fff2e5;\n",
              "  color: #000000;\n",
              "}\n",
              "#T_71a34_row1_col2 {\n",
              "  background-color: #952f03;\n",
              "  color: #f1f1f1;\n",
              "}\n",
              "#T_71a34_row1_col3, #T_71a34_row4_col2 {\n",
              "  background-color: #f16813;\n",
              "  color: #f1f1f1;\n",
              "}\n",
              "#T_71a34_row1_col4, #T_71a34_row5_col11, #T_71a34_row7_col10 {\n",
              "  background-color: #fb8735;\n",
              "  color: #f1f1f1;\n",
              "}\n",
              "#T_71a34_row1_col5 {\n",
              "  background-color: #f36f1a;\n",
              "  color: #f1f1f1;\n",
              "}\n",
              "#T_71a34_row1_col6 {\n",
              "  background-color: #fda45d;\n",
              "  color: #000000;\n",
              "}\n",
              "#T_71a34_row1_col7, #T_71a34_row1_col11, #T_71a34_row11_col0 {\n",
              "  background-color: #fdb576;\n",
              "  color: #000000;\n",
              "}\n",
              "#T_71a34_row1_col8 {\n",
              "  background-color: #fdc895;\n",
              "  color: #000000;\n",
              "}\n",
              "#T_71a34_row1_col9, #T_71a34_row2_col9, #T_71a34_row5_col7, #T_71a34_row11_col2 {\n",
              "  background-color: #f77b28;\n",
              "  color: #f1f1f1;\n",
              "}\n",
              "#T_71a34_row1_col10, #T_71a34_row6_col3, #T_71a34_row7_col0, #T_71a34_row11_col6, #T_71a34_row14_col7 {\n",
              "  background-color: #fdc590;\n",
              "  color: #000000;\n",
              "}\n",
              "#T_71a34_row1_col12, #T_71a34_row6_col10, #T_71a34_row10_col6 {\n",
              "  background-color: #fdd4aa;\n",
              "  color: #000000;\n",
              "}\n",
              "#T_71a34_row1_col13, #T_71a34_row14_col3 {\n",
              "  background-color: #e95e0d;\n",
              "  color: #f1f1f1;\n",
              "}\n",
              "#T_71a34_row1_col14 {\n",
              "  background-color: #892b04;\n",
              "  color: #f1f1f1;\n",
              "}\n",
              "#T_71a34_row2_col1 {\n",
              "  background-color: #963003;\n",
              "  color: #f1f1f1;\n",
              "}\n",
              "#T_71a34_row2_col3, #T_71a34_row3_col13, #T_71a34_row5_col2, #T_71a34_row13_col2 {\n",
              "  background-color: #ea5f0e;\n",
              "  color: #f1f1f1;\n",
              "}\n",
              "#T_71a34_row2_col4, #T_71a34_row9_col5, #T_71a34_row14_col6 {\n",
              "  background-color: #fd9141;\n",
              "  color: #000000;\n",
              "}\n",
              "#T_71a34_row2_col5 {\n",
              "  background-color: #f87e2b;\n",
              "  color: #f1f1f1;\n",
              "}\n",
              "#T_71a34_row2_col6, #T_71a34_row7_col3, #T_71a34_row14_col4 {\n",
              "  background-color: #fc8a39;\n",
              "  color: #f1f1f1;\n",
              "}\n",
              "#T_71a34_row2_col7 {\n",
              "  background-color: #fdcfa0;\n",
              "  color: #000000;\n",
              "}\n",
              "#T_71a34_row2_col8 {\n",
              "  background-color: #fedebf;\n",
              "  color: #000000;\n",
              "}\n",
              "#T_71a34_row2_col10, #T_71a34_row9_col0, #T_71a34_row14_col10 {\n",
              "  background-color: #fdc38d;\n",
              "  color: #000000;\n",
              "}\n",
              "#T_71a34_row2_col11 {\n",
              "  background-color: #fdbd83;\n",
              "  color: #000000;\n",
              "}\n",
              "#T_71a34_row2_col12, #T_71a34_row8_col6 {\n",
              "  background-color: #fdd2a6;\n",
              "  color: #000000;\n",
              "}\n",
              "#T_71a34_row2_col13, #T_71a34_row8_col5 {\n",
              "  background-color: #f67824;\n",
              "  color: #f1f1f1;\n",
              "}\n",
              "#T_71a34_row2_col14, #T_71a34_row14_col2 {\n",
              "  background-color: #802704;\n",
              "  color: #f1f1f1;\n",
              "}\n",
              "#T_71a34_row3_col0, #T_71a34_row4_col6 {\n",
              "  background-color: #fdd0a2;\n",
              "  color: #000000;\n",
              "}\n",
              "#T_71a34_row3_col1 {\n",
              "  background-color: #e05206;\n",
              "  color: #f1f1f1;\n",
              "}\n",
              "#T_71a34_row3_col2, #T_71a34_row3_col14 {\n",
              "  background-color: #d94801;\n",
              "  color: #f1f1f1;\n",
              "}\n",
              "#T_71a34_row3_col4 {\n",
              "  background-color: #f26c16;\n",
              "  color: #f1f1f1;\n",
              "}\n",
              "#T_71a34_row3_col5 {\n",
              "  background-color: #e75c0c;\n",
              "  color: #f1f1f1;\n",
              "}\n",
              "#T_71a34_row3_col6 {\n",
              "  background-color: #fdb373;\n",
              "  color: #000000;\n",
              "}\n",
              "#T_71a34_row3_col7 {\n",
              "  background-color: #fd9243;\n",
              "  color: #000000;\n",
              "}\n",
              "#T_71a34_row3_col8 {\n",
              "  background-color: #fd9d53;\n",
              "  color: #000000;\n",
              "}\n",
              "#T_71a34_row3_col9, #T_71a34_row6_col13 {\n",
              "  background-color: #fdc28b;\n",
              "  color: #000000;\n",
              "}\n",
              "#T_71a34_row3_col10 {\n",
              "  background-color: #fdac67;\n",
              "  color: #000000;\n",
              "}\n",
              "#T_71a34_row3_col11, #T_71a34_row12_col10 {\n",
              "  background-color: #fd984b;\n",
              "  color: #000000;\n",
              "}\n",
              "#T_71a34_row3_col12, #T_71a34_row6_col1 {\n",
              "  background-color: #fd8c3b;\n",
              "  color: #f1f1f1;\n",
              "}\n",
              "#T_71a34_row4_col0 {\n",
              "  background-color: #fdcb9b;\n",
              "  color: #000000;\n",
              "}\n",
              "#T_71a34_row4_col1, #T_71a34_row4_col14, #T_71a34_row13_col3 {\n",
              "  background-color: #ee6511;\n",
              "  color: #f1f1f1;\n",
              "}\n",
              "#T_71a34_row4_col3, #T_71a34_row4_col9, #T_71a34_row9_col2 {\n",
              "  background-color: #f16913;\n",
              "  color: #f1f1f1;\n",
              "}\n",
              "#T_71a34_row4_col5 {\n",
              "  background-color: #da4902;\n",
              "  color: #f1f1f1;\n",
              "}\n",
              "#T_71a34_row4_col7 {\n",
              "  background-color: #d54601;\n",
              "  color: #f1f1f1;\n",
              "}\n",
              "#T_71a34_row4_col8, #T_71a34_row7_col4 {\n",
              "  background-color: #d34601;\n",
              "  color: #f1f1f1;\n",
              "}\n",
              "#T_71a34_row4_col10 {\n",
              "  background-color: #fdc692;\n",
              "  color: #000000;\n",
              "}\n",
              "#T_71a34_row4_col11 {\n",
              "  background-color: #e15407;\n",
              "  color: #f1f1f1;\n",
              "}\n",
              "#T_71a34_row4_col12, #T_71a34_row14_col11 {\n",
              "  background-color: #fdb87c;\n",
              "  color: #000000;\n",
              "}\n",
              "#T_71a34_row4_col13 {\n",
              "  background-color: #ae3903;\n",
              "  color: #f1f1f1;\n",
              "}\n",
              "#T_71a34_row5_col0, #T_71a34_row10_col0, #T_71a34_row14_col12 {\n",
              "  background-color: #fdd3a7;\n",
              "  color: #000000;\n",
              "}\n",
              "#T_71a34_row5_col1 {\n",
              "  background-color: #e4580a;\n",
              "  color: #f1f1f1;\n",
              "}\n",
              "#T_71a34_row5_col3 {\n",
              "  background-color: #e85d0c;\n",
              "  color: #f1f1f1;\n",
              "}\n",
              "#T_71a34_row5_col4 {\n",
              "  background-color: #dc4c03;\n",
              "  color: #f1f1f1;\n",
              "}\n",
              "#T_71a34_row5_col6, #T_71a34_row13_col0, #T_71a34_row14_col8 {\n",
              "  background-color: #fdd7b1;\n",
              "  color: #000000;\n",
              "}\n",
              "#T_71a34_row5_col8, #T_71a34_row8_col2, #T_71a34_row10_col12 {\n",
              "  background-color: #fd9344;\n",
              "  color: #000000;\n",
              "}\n",
              "#T_71a34_row5_col9 {\n",
              "  background-color: #f9802d;\n",
              "  color: #f1f1f1;\n",
              "}\n",
              "#T_71a34_row5_col10 {\n",
              "  background-color: #fdc189;\n",
              "  color: #000000;\n",
              "}\n",
              "#T_71a34_row5_col12 {\n",
              "  background-color: #fd994d;\n",
              "  color: #000000;\n",
              "}\n",
              "#T_71a34_row5_col13 {\n",
              "  background-color: #dd4d04;\n",
              "  color: #f1f1f1;\n",
              "}\n",
              "#T_71a34_row5_col14 {\n",
              "  background-color: #e65a0b;\n",
              "  color: #f1f1f1;\n",
              "}\n",
              "#T_71a34_row6_col0 {\n",
              "  background-color: #fedebd;\n",
              "  color: #000000;\n",
              "}\n",
              "#T_71a34_row6_col2 {\n",
              "  background-color: #f4711c;\n",
              "  color: #f1f1f1;\n",
              "}\n",
              "#T_71a34_row6_col4 {\n",
              "  background-color: #fee1c4;\n",
              "  color: #000000;\n",
              "}\n",
              "#T_71a34_row6_col5 {\n",
              "  background-color: #fee3c8;\n",
              "  color: #000000;\n",
              "}\n",
              "#T_71a34_row6_col7 {\n",
              "  background-color: #fee0c3;\n",
              "  color: #000000;\n",
              "}\n",
              "#T_71a34_row6_col9 {\n",
              "  background-color: #fdd1a4;\n",
              "  color: #000000;\n",
              "}\n",
              "#T_71a34_row6_col11 {\n",
              "  background-color: #fee9d3;\n",
              "  color: #000000;\n",
              "}\n",
              "#T_71a34_row6_col12 {\n",
              "  background-color: #fdd5ab;\n",
              "  color: #000000;\n",
              "}\n",
              "#T_71a34_row6_col14 {\n",
              "  background-color: #f67723;\n",
              "  color: #f1f1f1;\n",
              "}\n",
              "#T_71a34_row7_col1 {\n",
              "  background-color: #fb8634;\n",
              "  color: #f1f1f1;\n",
              "}\n",
              "#T_71a34_row7_col2, #T_71a34_row13_col10 {\n",
              "  background-color: #fd9547;\n",
              "  color: #000000;\n",
              "}\n",
              "#T_71a34_row7_col5, #T_71a34_row11_col5 {\n",
              "  background-color: #f4721e;\n",
              "  color: #f1f1f1;\n",
              "}\n",
              "#T_71a34_row7_col6 {\n",
              "  background-color: #fdc997;\n",
              "  color: #000000;\n",
              "}\n",
              "#T_71a34_row7_col8 {\n",
              "  background-color: #942f03;\n",
              "  color: #f1f1f1;\n",
              "}\n",
              "#T_71a34_row7_col9, #T_71a34_row13_col6 {\n",
              "  background-color: #fdba7f;\n",
              "  color: #000000;\n",
              "}\n",
              "#T_71a34_row7_col11, #T_71a34_row11_col8 {\n",
              "  background-color: #ad3803;\n",
              "  color: #f1f1f1;\n",
              "}\n",
              "#T_71a34_row7_col12 {\n",
              "  background-color: #fda55f;\n",
              "  color: #000000;\n",
              "}\n",
              "#T_71a34_row7_col13 {\n",
              "  background-color: #902e04;\n",
              "  color: #f1f1f1;\n",
              "}\n",
              "#T_71a34_row7_col14 {\n",
              "  background-color: #fd8f3e;\n",
              "  color: #f1f1f1;\n",
              "}\n",
              "#T_71a34_row8_col0, #T_71a34_row10_col1 {\n",
              "  background-color: #fda965;\n",
              "  color: #000000;\n",
              "}\n",
              "#T_71a34_row8_col1 {\n",
              "  background-color: #fa8331;\n",
              "  color: #f1f1f1;\n",
              "}\n",
              "#T_71a34_row8_col3, #T_71a34_row11_col3 {\n",
              "  background-color: #fa8532;\n",
              "  color: #f1f1f1;\n",
              "}\n",
              "#T_71a34_row8_col4 {\n",
              "  background-color: #c54102;\n",
              "  color: #f1f1f1;\n",
              "}\n",
              "#T_71a34_row8_col7 {\n",
              "  background-color: #912e04;\n",
              "  color: #f1f1f1;\n",
              "}\n",
              "#T_71a34_row8_col9 {\n",
              "  background-color: #fda159;\n",
              "  color: #000000;\n",
              "}\n",
              "#T_71a34_row8_col10, #T_71a34_row9_col13, #T_71a34_row12_col3 {\n",
              "  background-color: #fd9f56;\n",
              "  color: #000000;\n",
              "}\n",
              "#T_71a34_row8_col11 {\n",
              "  background-color: #ab3803;\n",
              "  color: #f1f1f1;\n",
              "}\n",
              "#T_71a34_row8_col12 {\n",
              "  background-color: #fdbb81;\n",
              "  color: #000000;\n",
              "}\n",
              "#T_71a34_row8_col13 {\n",
              "  background-color: #973003;\n",
              "  color: #f1f1f1;\n",
              "}\n",
              "#T_71a34_row8_col14 {\n",
              "  background-color: #fc8b3a;\n",
              "  color: #f1f1f1;\n",
              "}\n",
              "#T_71a34_row9_col1, #T_71a34_row14_col13 {\n",
              "  background-color: #f26d17;\n",
              "  color: #f1f1f1;\n",
              "}\n",
              "#T_71a34_row9_col3 {\n",
              "  background-color: #fdd9b4;\n",
              "  color: #000000;\n",
              "}\n",
              "#T_71a34_row9_col4 {\n",
              "  background-color: #f87d29;\n",
              "  color: #f1f1f1;\n",
              "}\n",
              "#T_71a34_row9_col6 {\n",
              "  background-color: #fdd6ae;\n",
              "  color: #000000;\n",
              "}\n",
              "#T_71a34_row9_col7, #T_71a34_row10_col4 {\n",
              "  background-color: #fddbb8;\n",
              "  color: #000000;\n",
              "}\n",
              "#T_71a34_row9_col8, #T_71a34_row9_col11 {\n",
              "  background-color: #fdd7af;\n",
              "  color: #000000;\n",
              "}\n",
              "#T_71a34_row9_col14 {\n",
              "  background-color: #f06712;\n",
              "  color: #f1f1f1;\n",
              "}\n",
              "#T_71a34_row10_col2 {\n",
              "  background-color: #fda25a;\n",
              "  color: #000000;\n",
              "}\n",
              "#T_71a34_row10_col3 {\n",
              "  background-color: #fdbf86;\n",
              "  color: #000000;\n",
              "}\n",
              "#T_71a34_row10_col5, #T_71a34_row10_col8 {\n",
              "  background-color: #fdd1a3;\n",
              "  color: #000000;\n",
              "}\n",
              "#T_71a34_row10_col7 {\n",
              "  background-color: #fd9c51;\n",
              "  color: #000000;\n",
              "}\n",
              "#T_71a34_row10_col11 {\n",
              "  background-color: #fd9649;\n",
              "  color: #000000;\n",
              "}\n",
              "#T_71a34_row10_col13 {\n",
              "  background-color: #fd9b50;\n",
              "  color: #000000;\n",
              "}\n",
              "#T_71a34_row10_col14 {\n",
              "  background-color: #fda35c;\n",
              "  color: #000000;\n",
              "}\n",
              "#T_71a34_row11_col1 {\n",
              "  background-color: #f77a27;\n",
              "  color: #f1f1f1;\n",
              "}\n",
              "#T_71a34_row11_col4 {\n",
              "  background-color: #db4b03;\n",
              "  color: #f1f1f1;\n",
              "}\n",
              "#T_71a34_row11_col7 {\n",
              "  background-color: #a83703;\n",
              "  color: #f1f1f1;\n",
              "}\n",
              "#T_71a34_row11_col9 {\n",
              "  background-color: #fda660;\n",
              "  color: #000000;\n",
              "}\n",
              "#T_71a34_row11_col10 {\n",
              "  background-color: #f57520;\n",
              "  color: #f1f1f1;\n",
              "}\n",
              "#T_71a34_row11_col12 {\n",
              "  background-color: #fdb97d;\n",
              "  color: #000000;\n",
              "}\n",
              "#T_71a34_row11_col13 {\n",
              "  background-color: #a13403;\n",
              "  color: #f1f1f1;\n",
              "}\n",
              "#T_71a34_row11_col14, #T_71a34_row14_col9 {\n",
              "  background-color: #f67925;\n",
              "  color: #f1f1f1;\n",
              "}\n",
              "#T_71a34_row12_col0 {\n",
              "  background-color: #fdb77a;\n",
              "  color: #000000;\n",
              "}\n",
              "#T_71a34_row12_col1 {\n",
              "  background-color: #fdbe84;\n",
              "  color: #000000;\n",
              "}\n",
              "#T_71a34_row12_col2, #T_71a34_row12_col14 {\n",
              "  background-color: #fdb678;\n",
              "  color: #000000;\n",
              "}\n",
              "#T_71a34_row12_col4 {\n",
              "  background-color: #fdd5ad;\n",
              "  color: #000000;\n",
              "}\n",
              "#T_71a34_row12_col5 {\n",
              "  background-color: #fdab66;\n",
              "  color: #000000;\n",
              "}\n",
              "#T_71a34_row12_col6 {\n",
              "  background-color: #fdd9b5;\n",
              "  color: #000000;\n",
              "}\n",
              "#T_71a34_row12_col7 {\n",
              "  background-color: #fdc794;\n",
              "  color: #000000;\n",
              "}\n",
              "#T_71a34_row12_col11 {\n",
              "  background-color: #fee6cf;\n",
              "  color: #000000;\n",
              "}\n",
              "#T_71a34_row12_col13 {\n",
              "  background-color: #fdc088;\n",
              "  color: #000000;\n",
              "}\n",
              "#T_71a34_row13_col1 {\n",
              "  background-color: #de4e05;\n",
              "  color: #f1f1f1;\n",
              "}\n",
              "#T_71a34_row13_col4 {\n",
              "  background-color: #b33b02;\n",
              "  color: #f1f1f1;\n",
              "}\n",
              "#T_71a34_row13_col5 {\n",
              "  background-color: #de5005;\n",
              "  color: #f1f1f1;\n",
              "}\n",
              "#T_71a34_row13_col7 {\n",
              "  background-color: #932f03;\n",
              "  color: #f1f1f1;\n",
              "}\n",
              "#T_71a34_row13_col8 {\n",
              "  background-color: #9e3303;\n",
              "  color: #f1f1f1;\n",
              "}\n",
              "#T_71a34_row13_col9 {\n",
              "  background-color: #fd9446;\n",
              "  color: #000000;\n",
              "}\n",
              "#T_71a34_row13_col11 {\n",
              "  background-color: #a93703;\n",
              "  color: #f1f1f1;\n",
              "}\n",
              "#T_71a34_row13_col12 {\n",
              "  background-color: #fdb271;\n",
              "  color: #000000;\n",
              "}\n",
              "#T_71a34_row13_col14 {\n",
              "  background-color: #e45709;\n",
              "  color: #f1f1f1;\n",
              "}\n",
              "#T_71a34_row14_col1 {\n",
              "  background-color: #8a2b04;\n",
              "  color: #f1f1f1;\n",
              "}\n",
              "#T_71a34_row14_col5 {\n",
              "  background-color: #f57622;\n",
              "  color: #f1f1f1;\n",
              "}\n",
              "</style>\n",
              "<table id=\"T_71a34\" class=\"dataframe\">\n",
              "  <thead>\n",
              "    <tr>\n",
              "      <th class=\"blank level0\" >&nbsp;</th>\n",
              "      <th id=\"T_71a34_level0_col0\" class=\"col_heading level0 col0\" >Year</th>\n",
              "      <th id=\"T_71a34_level0_col1\" class=\"col_heading level0 col1\" >PM2.5</th>\n",
              "      <th id=\"T_71a34_level0_col2\" class=\"col_heading level0 col2\" >PM10</th>\n",
              "      <th id=\"T_71a34_level0_col3\" class=\"col_heading level0 col3\" >NO</th>\n",
              "      <th id=\"T_71a34_level0_col4\" class=\"col_heading level0 col4\" >NO2</th>\n",
              "      <th id=\"T_71a34_level0_col5\" class=\"col_heading level0 col5\" >NOx</th>\n",
              "      <th id=\"T_71a34_level0_col6\" class=\"col_heading level0 col6\" >NH3</th>\n",
              "      <th id=\"T_71a34_level0_col7\" class=\"col_heading level0 col7\" >CO</th>\n",
              "      <th id=\"T_71a34_level0_col8\" class=\"col_heading level0 col8\" >SO2</th>\n",
              "      <th id=\"T_71a34_level0_col9\" class=\"col_heading level0 col9\" >O3</th>\n",
              "      <th id=\"T_71a34_level0_col10\" class=\"col_heading level0 col10\" >Benzene</th>\n",
              "      <th id=\"T_71a34_level0_col11\" class=\"col_heading level0 col11\" >Toluene</th>\n",
              "      <th id=\"T_71a34_level0_col12\" class=\"col_heading level0 col12\" >Xylene</th>\n",
              "      <th id=\"T_71a34_level0_col13\" class=\"col_heading level0 col13\" >AQI</th>\n",
              "      <th id=\"T_71a34_level0_col14\" class=\"col_heading level0 col14\" >Feature_PM2.5_PM10</th>\n",
              "    </tr>\n",
              "  </thead>\n",
              "  <tbody>\n",
              "    <tr>\n",
              "      <th id=\"T_71a34_level0_row0\" class=\"row_heading level0 row0\" >Year</th>\n",
              "      <td id=\"T_71a34_row0_col0\" class=\"data row0 col0\" >1.000000</td>\n",
              "      <td id=\"T_71a34_row0_col1\" class=\"data row0 col1\" >-0.520251</td>\n",
              "      <td id=\"T_71a34_row0_col2\" class=\"data row0 col2\" >-0.568614</td>\n",
              "      <td id=\"T_71a34_row0_col3\" class=\"data row0 col3\" >-0.171925</td>\n",
              "      <td id=\"T_71a34_row0_col4\" class=\"data row0 col4\" >-0.147509</td>\n",
              "      <td id=\"T_71a34_row0_col5\" class=\"data row0 col5\" >-0.196362</td>\n",
              "      <td id=\"T_71a34_row0_col6\" class=\"data row0 col6\" >-0.294824</td>\n",
              "      <td id=\"T_71a34_row0_col7\" class=\"data row0 col7\" >-0.113645</td>\n",
              "      <td id=\"T_71a34_row0_col8\" class=\"data row0 col8\" >0.046990</td>\n",
              "      <td id=\"T_71a34_row0_col9\" class=\"data row0 col9\" >-0.102683</td>\n",
              "      <td id=\"T_71a34_row0_col10\" class=\"data row0 col10\" >-0.195726</td>\n",
              "      <td id=\"T_71a34_row0_col11\" class=\"data row0 col11\" >-0.020976</td>\n",
              "      <td id=\"T_71a34_row0_col12\" class=\"data row0 col12\" >-0.029938</td>\n",
              "      <td id=\"T_71a34_row0_col13\" class=\"data row0 col13\" >-0.241754</td>\n",
              "      <td id=\"T_71a34_row0_col14\" class=\"data row0 col14\" >-0.567495</td>\n",
              "    </tr>\n",
              "    <tr>\n",
              "      <th id=\"T_71a34_level0_row1\" class=\"row_heading level0 row1\" >PM2.5</th>\n",
              "      <td id=\"T_71a34_row1_col0\" class=\"data row1 col0\" >-0.520251</td>\n",
              "      <td id=\"T_71a34_row1_col1\" class=\"data row1 col1\" >1.000000</td>\n",
              "      <td id=\"T_71a34_row1_col2\" class=\"data row1 col2\" >0.884813</td>\n",
              "      <td id=\"T_71a34_row1_col3\" class=\"data row1 col3\" >0.560934</td>\n",
              "      <td id=\"T_71a34_row1_col4\" class=\"data row1 col4\" >0.449679</td>\n",
              "      <td id=\"T_71a34_row1_col5\" class=\"data row1 col5\" >0.525085</td>\n",
              "      <td id=\"T_71a34_row1_col6\" class=\"data row1 col6\" >0.240727</td>\n",
              "      <td id=\"T_71a34_row1_col7\" class=\"data row1 col7\" >0.275729</td>\n",
              "      <td id=\"T_71a34_row1_col8\" class=\"data row1 col8\" >0.291759</td>\n",
              "      <td id=\"T_71a34_row1_col9\" class=\"data row1 col9\" >0.411336</td>\n",
              "      <td id=\"T_71a34_row1_col10\" class=\"data row1 col10\" >0.075901</td>\n",
              "      <td id=\"T_71a34_row1_col11\" class=\"data row1 col11\" >0.337712</td>\n",
              "      <td id=\"T_71a34_row1_col12\" class=\"data row1 col12\" >-0.035578</td>\n",
              "      <td id=\"T_71a34_row1_col13\" class=\"data row1 col13\" >0.583243</td>\n",
              "      <td id=\"T_71a34_row1_col14\" class=\"data row1 col14\" >0.946003</td>\n",
              "    </tr>\n",
              "    <tr>\n",
              "      <th id=\"T_71a34_level0_row2\" class=\"row_heading level0 row2\" >PM10</th>\n",
              "      <td id=\"T_71a34_row2_col0\" class=\"data row2 col0\" >-0.568614</td>\n",
              "      <td id=\"T_71a34_row2_col1\" class=\"data row2 col1\" >0.884813</td>\n",
              "      <td id=\"T_71a34_row2_col2\" class=\"data row2 col2\" >1.000000</td>\n",
              "      <td id=\"T_71a34_row2_col3\" class=\"data row2 col3\" >0.605534</td>\n",
              "      <td id=\"T_71a34_row2_col4\" class=\"data row2 col4\" >0.412201</td>\n",
              "      <td id=\"T_71a34_row2_col5\" class=\"data row2 col5\" >0.467150</td>\n",
              "      <td id=\"T_71a34_row2_col6\" class=\"data row2 col6\" >0.367087</td>\n",
              "      <td id=\"T_71a34_row2_col7\" class=\"data row2 col7\" >0.171052</td>\n",
              "      <td id=\"T_71a34_row2_col8\" class=\"data row2 col8\" >0.181780</td>\n",
              "      <td id=\"T_71a34_row2_col9\" class=\"data row2 col9\" >0.409487</td>\n",
              "      <td id=\"T_71a34_row2_col10\" class=\"data row2 col10\" >0.088454</td>\n",
              "      <td id=\"T_71a34_row2_col11\" class=\"data row2 col11\" >0.307979</td>\n",
              "      <td id=\"T_71a34_row2_col12\" class=\"data row2 col12\" >-0.023568</td>\n",
              "      <td id=\"T_71a34_row2_col13\" class=\"data row2 col13\" >0.469364</td>\n",
              "      <td id=\"T_71a34_row2_col14\" class=\"data row2 col14\" >0.988076</td>\n",
              "    </tr>\n",
              "    <tr>\n",
              "      <th id=\"T_71a34_level0_row3\" class=\"row_heading level0 row3\" >NO</th>\n",
              "      <td id=\"T_71a34_row3_col0\" class=\"data row3 col0\" >-0.171925</td>\n",
              "      <td id=\"T_71a34_row3_col1\" class=\"data row3 col1\" >0.560934</td>\n",
              "      <td id=\"T_71a34_row3_col2\" class=\"data row3 col2\" >0.605534</td>\n",
              "      <td id=\"T_71a34_row3_col3\" class=\"data row3 col3\" >1.000000</td>\n",
              "      <td id=\"T_71a34_row3_col4\" class=\"data row3 col4\" >0.559249</td>\n",
              "      <td id=\"T_71a34_row3_col5\" class=\"data row3 col5\" >0.611520</td>\n",
              "      <td id=\"T_71a34_row3_col6\" class=\"data row3 col6\" >0.169661</td>\n",
              "      <td id=\"T_71a34_row3_col7\" class=\"data row3 col7\" >0.424707</td>\n",
              "      <td id=\"T_71a34_row3_col8\" class=\"data row3 col8\" >0.447501</td>\n",
              "      <td id=\"T_71a34_row3_col9\" class=\"data row3 col9\" >0.063481</td>\n",
              "      <td id=\"T_71a34_row3_col10\" class=\"data row3 col10\" >0.198519</td>\n",
              "      <td id=\"T_71a34_row3_col11\" class=\"data row3 col11\" >0.446875</td>\n",
              "      <td id=\"T_71a34_row3_col12\" class=\"data row3 col12\" >0.331854</td>\n",
              "      <td id=\"T_71a34_row3_col13\" class=\"data row3 col13\" >0.578310</td>\n",
              "      <td id=\"T_71a34_row3_col14\" class=\"data row3 col14\" >0.606624</td>\n",
              "    </tr>\n",
              "    <tr>\n",
              "      <th id=\"T_71a34_level0_row4\" class=\"row_heading level0 row4\" >NO2</th>\n",
              "      <td id=\"T_71a34_row4_col0\" class=\"data row4 col0\" >-0.147509</td>\n",
              "      <td id=\"T_71a34_row4_col1\" class=\"data row4 col1\" >0.449679</td>\n",
              "      <td id=\"T_71a34_row4_col2\" class=\"data row4 col2\" >0.412201</td>\n",
              "      <td id=\"T_71a34_row4_col3\" class=\"data row4 col3\" >0.559249</td>\n",
              "      <td id=\"T_71a34_row4_col4\" class=\"data row4 col4\" >1.000000</td>\n",
              "      <td id=\"T_71a34_row4_col5\" class=\"data row4 col5\" >0.694902</td>\n",
              "      <td id=\"T_71a34_row4_col6\" class=\"data row4 col6\" >0.030662</td>\n",
              "      <td id=\"T_71a34_row4_col7\" class=\"data row4 col7\" >0.730381</td>\n",
              "      <td id=\"T_71a34_row4_col8\" class=\"data row4 col8\" >0.768450</td>\n",
              "      <td id=\"T_71a34_row4_col9\" class=\"data row4 col9\" >0.492956</td>\n",
              "      <td id=\"T_71a34_row4_col10\" class=\"data row4 col10\" >0.072030</td>\n",
              "      <td id=\"T_71a34_row4_col11\" class=\"data row4 col11\" >0.699241</td>\n",
              "      <td id=\"T_71a34_row4_col12\" class=\"data row4 col12\" >0.107622</td>\n",
              "      <td id=\"T_71a34_row4_col13\" class=\"data row4 col13\" >0.819461</td>\n",
              "      <td id=\"T_71a34_row4_col14\" class=\"data row4 col14\" >0.435359</td>\n",
              "    </tr>\n",
              "    <tr>\n",
              "      <th id=\"T_71a34_level0_row5\" class=\"row_heading level0 row5\" >NOx</th>\n",
              "      <td id=\"T_71a34_row5_col0\" class=\"data row5 col0\" >-0.196362</td>\n",
              "      <td id=\"T_71a34_row5_col1\" class=\"data row5 col1\" >0.525085</td>\n",
              "      <td id=\"T_71a34_row5_col2\" class=\"data row5 col2\" >0.467150</td>\n",
              "      <td id=\"T_71a34_row5_col3\" class=\"data row5 col3\" >0.611520</td>\n",
              "      <td id=\"T_71a34_row5_col4\" class=\"data row5 col4\" >0.694902</td>\n",
              "      <td id=\"T_71a34_row5_col5\" class=\"data row5 col5\" >1.000000</td>\n",
              "      <td id=\"T_71a34_row5_col6\" class=\"data row5 col6\" >-0.026051</td>\n",
              "      <td id=\"T_71a34_row5_col7\" class=\"data row5 col7\" >0.509471</td>\n",
              "      <td id=\"T_71a34_row5_col8\" class=\"data row5 col8\" >0.488222</td>\n",
              "      <td id=\"T_71a34_row5_col9\" class=\"data row5 col9\" >0.387132</td>\n",
              "      <td id=\"T_71a34_row5_col10\" class=\"data row5 col10\" >0.099497</td>\n",
              "      <td id=\"T_71a34_row5_col11\" class=\"data row5 col11\" >0.512338</td>\n",
              "      <td id=\"T_71a34_row5_col12\" class=\"data row5 col12\" >0.269741</td>\n",
              "      <td id=\"T_71a34_row5_col13\" class=\"data row5 col13\" >0.664735</td>\n",
              "      <td id=\"T_71a34_row5_col14\" class=\"data row5 col14\" >0.498504</td>\n",
              "    </tr>\n",
              "    <tr>\n",
              "      <th id=\"T_71a34_level0_row6\" class=\"row_heading level0 row6\" >NH3</th>\n",
              "      <td id=\"T_71a34_row6_col0\" class=\"data row6 col0\" >-0.294824</td>\n",
              "      <td id=\"T_71a34_row6_col1\" class=\"data row6 col1\" >0.240727</td>\n",
              "      <td id=\"T_71a34_row6_col2\" class=\"data row6 col2\" >0.367087</td>\n",
              "      <td id=\"T_71a34_row6_col3\" class=\"data row6 col3\" >0.169661</td>\n",
              "      <td id=\"T_71a34_row6_col4\" class=\"data row6 col4\" >0.030662</td>\n",
              "      <td id=\"T_71a34_row6_col5\" class=\"data row6 col5\" >-0.026051</td>\n",
              "      <td id=\"T_71a34_row6_col6\" class=\"data row6 col6\" >1.000000</td>\n",
              "      <td id=\"T_71a34_row6_col7\" class=\"data row6 col7\" >0.063880</td>\n",
              "      <td id=\"T_71a34_row6_col8\" class=\"data row6 col8\" >0.015136</td>\n",
              "      <td id=\"T_71a34_row6_col9\" class=\"data row6 col9\" >-0.014159</td>\n",
              "      <td id=\"T_71a34_row6_col10\" class=\"data row6 col10\" >-0.001428</td>\n",
              "      <td id=\"T_71a34_row6_col11\" class=\"data row6 col11\" >0.083585</td>\n",
              "      <td id=\"T_71a34_row6_col12\" class=\"data row6 col12\" >-0.041831</td>\n",
              "      <td id=\"T_71a34_row6_col13\" class=\"data row6 col13\" >0.132576</td>\n",
              "      <td id=\"T_71a34_row6_col14\" class=\"data row6 col14\" >0.334928</td>\n",
              "    </tr>\n",
              "    <tr>\n",
              "      <th id=\"T_71a34_level0_row7\" class=\"row_heading level0 row7\" >CO</th>\n",
              "      <td id=\"T_71a34_row7_col0\" class=\"data row7 col0\" >-0.113645</td>\n",
              "      <td id=\"T_71a34_row7_col1\" class=\"data row7 col1\" >0.275729</td>\n",
              "      <td id=\"T_71a34_row7_col2\" class=\"data row7 col2\" >0.171052</td>\n",
              "      <td id=\"T_71a34_row7_col3\" class=\"data row7 col3\" >0.424707</td>\n",
              "      <td id=\"T_71a34_row7_col4\" class=\"data row7 col4\" >0.730381</td>\n",
              "      <td id=\"T_71a34_row7_col5\" class=\"data row7 col5\" >0.509471</td>\n",
              "      <td id=\"T_71a34_row7_col6\" class=\"data row7 col6\" >0.063880</td>\n",
              "      <td id=\"T_71a34_row7_col7\" class=\"data row7 col7\" >1.000000</td>\n",
              "      <td id=\"T_71a34_row7_col8\" class=\"data row7 col8\" >0.933714</td>\n",
              "      <td id=\"T_71a34_row7_col9\" class=\"data row7 col9\" >0.098823</td>\n",
              "      <td id=\"T_71a34_row7_col10\" class=\"data row7 col10\" >0.379452</td>\n",
              "      <td id=\"T_71a34_row7_col11\" class=\"data row7 col11\" >0.852739</td>\n",
              "      <td id=\"T_71a34_row7_col12\" class=\"data row7 col12\" >0.202017</td>\n",
              "      <td id=\"T_71a34_row7_col13\" class=\"data row7 col13\" >0.929730</td>\n",
              "      <td id=\"T_71a34_row7_col14\" class=\"data row7 col14\" >0.210112</td>\n",
              "    </tr>\n",
              "    <tr>\n",
              "      <th id=\"T_71a34_level0_row8\" class=\"row_heading level0 row8\" >SO2</th>\n",
              "      <td id=\"T_71a34_row8_col0\" class=\"data row8 col0\" >0.046990</td>\n",
              "      <td id=\"T_71a34_row8_col1\" class=\"data row8 col1\" >0.291759</td>\n",
              "      <td id=\"T_71a34_row8_col2\" class=\"data row8 col2\" >0.181780</td>\n",
              "      <td id=\"T_71a34_row8_col3\" class=\"data row8 col3\" >0.447501</td>\n",
              "      <td id=\"T_71a34_row8_col4\" class=\"data row8 col4\" >0.768450</td>\n",
              "      <td id=\"T_71a34_row8_col5\" class=\"data row8 col5\" >0.488222</td>\n",
              "      <td id=\"T_71a34_row8_col6\" class=\"data row8 col6\" >0.015136</td>\n",
              "      <td id=\"T_71a34_row8_col7\" class=\"data row8 col7\" >0.933714</td>\n",
              "      <td id=\"T_71a34_row8_col8\" class=\"data row8 col8\" >1.000000</td>\n",
              "      <td id=\"T_71a34_row8_col9\" class=\"data row8 col9\" >0.224584</td>\n",
              "      <td id=\"T_71a34_row8_col10\" class=\"data row8 col10\" >0.258759</td>\n",
              "      <td id=\"T_71a34_row8_col11\" class=\"data row8 col11\" >0.860176</td>\n",
              "      <td id=\"T_71a34_row8_col12\" class=\"data row8 col12\" >0.093730</td>\n",
              "      <td id=\"T_71a34_row8_col13\" class=\"data row8 col13\" >0.901506</td>\n",
              "      <td id=\"T_71a34_row8_col14\" class=\"data row8 col14\" >0.222873</td>\n",
              "    </tr>\n",
              "    <tr>\n",
              "      <th id=\"T_71a34_level0_row9\" class=\"row_heading level0 row9\" >O3</th>\n",
              "      <td id=\"T_71a34_row9_col0\" class=\"data row9 col0\" >-0.102683</td>\n",
              "      <td id=\"T_71a34_row9_col1\" class=\"data row9 col1\" >0.411336</td>\n",
              "      <td id=\"T_71a34_row9_col2\" class=\"data row9 col2\" >0.409487</td>\n",
              "      <td id=\"T_71a34_row9_col3\" class=\"data row9 col3\" >0.063481</td>\n",
              "      <td id=\"T_71a34_row9_col4\" class=\"data row9 col4\" >0.492956</td>\n",
              "      <td id=\"T_71a34_row9_col5\" class=\"data row9 col5\" >0.387132</td>\n",
              "      <td id=\"T_71a34_row9_col6\" class=\"data row9 col6\" >-0.014159</td>\n",
              "      <td id=\"T_71a34_row9_col7\" class=\"data row9 col7\" >0.098823</td>\n",
              "      <td id=\"T_71a34_row9_col8\" class=\"data row9 col8\" >0.224584</td>\n",
              "      <td id=\"T_71a34_row9_col9\" class=\"data row9 col9\" >1.000000</td>\n",
              "      <td id=\"T_71a34_row9_col10\" class=\"data row9 col10\" >-0.300592</td>\n",
              "      <td id=\"T_71a34_row9_col11\" class=\"data row9 col11\" >0.198023</td>\n",
              "      <td id=\"T_71a34_row9_col12\" class=\"data row9 col12\" >-0.343989</td>\n",
              "      <td id=\"T_71a34_row9_col13\" class=\"data row9 col13\" >0.293760</td>\n",
              "      <td id=\"T_71a34_row9_col14\" class=\"data row9 col14\" >0.420801</td>\n",
              "    </tr>\n",
              "    <tr>\n",
              "      <th id=\"T_71a34_level0_row10\" class=\"row_heading level0 row10\" >Benzene</th>\n",
              "      <td id=\"T_71a34_row10_col0\" class=\"data row10 col0\" >-0.195726</td>\n",
              "      <td id=\"T_71a34_row10_col1\" class=\"data row10 col1\" >0.075901</td>\n",
              "      <td id=\"T_71a34_row10_col2\" class=\"data row10 col2\" >0.088454</td>\n",
              "      <td id=\"T_71a34_row10_col3\" class=\"data row10 col3\" >0.198519</td>\n",
              "      <td id=\"T_71a34_row10_col4\" class=\"data row10 col4\" >0.072030</td>\n",
              "      <td id=\"T_71a34_row10_col5\" class=\"data row10 col5\" >0.099497</td>\n",
              "      <td id=\"T_71a34_row10_col6\" class=\"data row10 col6\" >-0.001428</td>\n",
              "      <td id=\"T_71a34_row10_col7\" class=\"data row10 col7\" >0.379452</td>\n",
              "      <td id=\"T_71a34_row10_col8\" class=\"data row10 col8\" >0.258759</td>\n",
              "      <td id=\"T_71a34_row10_col9\" class=\"data row10 col9\" >-0.300592</td>\n",
              "      <td id=\"T_71a34_row10_col10\" class=\"data row10 col10\" >1.000000</td>\n",
              "      <td id=\"T_71a34_row10_col11\" class=\"data row10 col11\" >0.456586</td>\n",
              "      <td id=\"T_71a34_row10_col12\" class=\"data row10 col12\" >0.298013</td>\n",
              "      <td id=\"T_71a34_row10_col13\" class=\"data row10 col13\" >0.312510</td>\n",
              "      <td id=\"T_71a34_row10_col14\" class=\"data row10 col14\" >0.086618</td>\n",
              "    </tr>\n",
              "    <tr>\n",
              "      <th id=\"T_71a34_level0_row11\" class=\"row_heading level0 row11\" >Toluene</th>\n",
              "      <td id=\"T_71a34_row11_col0\" class=\"data row11 col0\" >-0.020976</td>\n",
              "      <td id=\"T_71a34_row11_col1\" class=\"data row11 col1\" >0.337712</td>\n",
              "      <td id=\"T_71a34_row11_col2\" class=\"data row11 col2\" >0.307979</td>\n",
              "      <td id=\"T_71a34_row11_col3\" class=\"data row11 col3\" >0.446875</td>\n",
              "      <td id=\"T_71a34_row11_col4\" class=\"data row11 col4\" >0.699241</td>\n",
              "      <td id=\"T_71a34_row11_col5\" class=\"data row11 col5\" >0.512338</td>\n",
              "      <td id=\"T_71a34_row11_col6\" class=\"data row11 col6\" >0.083585</td>\n",
              "      <td id=\"T_71a34_row11_col7\" class=\"data row11 col7\" >0.852739</td>\n",
              "      <td id=\"T_71a34_row11_col8\" class=\"data row11 col8\" >0.860176</td>\n",
              "      <td id=\"T_71a34_row11_col9\" class=\"data row11 col9\" >0.198023</td>\n",
              "      <td id=\"T_71a34_row11_col10\" class=\"data row11 col10\" >0.456586</td>\n",
              "      <td id=\"T_71a34_row11_col11\" class=\"data row11 col11\" >1.000000</td>\n",
              "      <td id=\"T_71a34_row11_col12\" class=\"data row11 col12\" >0.104346</td>\n",
              "      <td id=\"T_71a34_row11_col13\" class=\"data row11 col13\" >0.860616</td>\n",
              "      <td id=\"T_71a34_row11_col14\" class=\"data row11 col14\" >0.325854</td>\n",
              "    </tr>\n",
              "    <tr>\n",
              "      <th id=\"T_71a34_level0_row12\" class=\"row_heading level0 row12\" >Xylene</th>\n",
              "      <td id=\"T_71a34_row12_col0\" class=\"data row12 col0\" >-0.029938</td>\n",
              "      <td id=\"T_71a34_row12_col1\" class=\"data row12 col1\" >-0.035578</td>\n",
              "      <td id=\"T_71a34_row12_col2\" class=\"data row12 col2\" >-0.023568</td>\n",
              "      <td id=\"T_71a34_row12_col3\" class=\"data row12 col3\" >0.331854</td>\n",
              "      <td id=\"T_71a34_row12_col4\" class=\"data row12 col4\" >0.107622</td>\n",
              "      <td id=\"T_71a34_row12_col5\" class=\"data row12 col5\" >0.269741</td>\n",
              "      <td id=\"T_71a34_row12_col6\" class=\"data row12 col6\" >-0.041831</td>\n",
              "      <td id=\"T_71a34_row12_col7\" class=\"data row12 col7\" >0.202017</td>\n",
              "      <td id=\"T_71a34_row12_col8\" class=\"data row12 col8\" >0.093730</td>\n",
              "      <td id=\"T_71a34_row12_col9\" class=\"data row12 col9\" >-0.343989</td>\n",
              "      <td id=\"T_71a34_row12_col10\" class=\"data row12 col10\" >0.298013</td>\n",
              "      <td id=\"T_71a34_row12_col11\" class=\"data row12 col11\" >0.104346</td>\n",
              "      <td id=\"T_71a34_row12_col12\" class=\"data row12 col12\" >1.000000</td>\n",
              "      <td id=\"T_71a34_row12_col13\" class=\"data row12 col13\" >0.142566</td>\n",
              "      <td id=\"T_71a34_row12_col14\" class=\"data row12 col14\" >-0.028153</td>\n",
              "    </tr>\n",
              "    <tr>\n",
              "      <th id=\"T_71a34_level0_row13\" class=\"row_heading level0 row13\" >AQI</th>\n",
              "      <td id=\"T_71a34_row13_col0\" class=\"data row13 col0\" >-0.241754</td>\n",
              "      <td id=\"T_71a34_row13_col1\" class=\"data row13 col1\" >0.583243</td>\n",
              "      <td id=\"T_71a34_row13_col2\" class=\"data row13 col2\" >0.469364</td>\n",
              "      <td id=\"T_71a34_row13_col3\" class=\"data row13 col3\" >0.578310</td>\n",
              "      <td id=\"T_71a34_row13_col4\" class=\"data row13 col4\" >0.819461</td>\n",
              "      <td id=\"T_71a34_row13_col5\" class=\"data row13 col5\" >0.664735</td>\n",
              "      <td id=\"T_71a34_row13_col6\" class=\"data row13 col6\" >0.132576</td>\n",
              "      <td id=\"T_71a34_row13_col7\" class=\"data row13 col7\" >0.929730</td>\n",
              "      <td id=\"T_71a34_row13_col8\" class=\"data row13 col8\" >0.901506</td>\n",
              "      <td id=\"T_71a34_row13_col9\" class=\"data row13 col9\" >0.293760</td>\n",
              "      <td id=\"T_71a34_row13_col10\" class=\"data row13 col10\" >0.312510</td>\n",
              "      <td id=\"T_71a34_row13_col11\" class=\"data row13 col11\" >0.860616</td>\n",
              "      <td id=\"T_71a34_row13_col12\" class=\"data row13 col12\" >0.142566</td>\n",
              "      <td id=\"T_71a34_row13_col13\" class=\"data row13 col13\" >1.000000</td>\n",
              "      <td id=\"T_71a34_row13_col14\" class=\"data row13 col14\" >0.519263</td>\n",
              "    </tr>\n",
              "    <tr>\n",
              "      <th id=\"T_71a34_level0_row14\" class=\"row_heading level0 row14\" >Feature_PM2.5_PM10</th>\n",
              "      <td id=\"T_71a34_row14_col0\" class=\"data row14 col0\" >-0.567495</td>\n",
              "      <td id=\"T_71a34_row14_col1\" class=\"data row14 col1\" >0.946003</td>\n",
              "      <td id=\"T_71a34_row14_col2\" class=\"data row14 col2\" >0.988076</td>\n",
              "      <td id=\"T_71a34_row14_col3\" class=\"data row14 col3\" >0.606624</td>\n",
              "      <td id=\"T_71a34_row14_col4\" class=\"data row14 col4\" >0.435359</td>\n",
              "      <td id=\"T_71a34_row14_col5\" class=\"data row14 col5\" >0.498504</td>\n",
              "      <td id=\"T_71a34_row14_col6\" class=\"data row14 col6\" >0.334928</td>\n",
              "      <td id=\"T_71a34_row14_col7\" class=\"data row14 col7\" >0.210112</td>\n",
              "      <td id=\"T_71a34_row14_col8\" class=\"data row14 col8\" >0.222873</td>\n",
              "      <td id=\"T_71a34_row14_col9\" class=\"data row14 col9\" >0.420801</td>\n",
              "      <td id=\"T_71a34_row14_col10\" class=\"data row14 col10\" >0.086618</td>\n",
              "      <td id=\"T_71a34_row14_col11\" class=\"data row14 col11\" >0.325854</td>\n",
              "      <td id=\"T_71a34_row14_col12\" class=\"data row14 col12\" >-0.028153</td>\n",
              "      <td id=\"T_71a34_row14_col13\" class=\"data row14 col13\" >0.519263</td>\n",
              "      <td id=\"T_71a34_row14_col14\" class=\"data row14 col14\" >1.000000</td>\n",
              "    </tr>\n",
              "  </tbody>\n",
              "</table>\n"
            ]
          },
          "metadata": {},
          "execution_count": 24
        }
      ]
    },
    {
      "cell_type": "markdown",
      "source": [
        "r-values greater than 0.7 indicate a strong correlation. Therefore, it would be reasonable to say there is a strong correlation between the following:-\n",
        "\n",
        "\n",
        "\n",
        "*   AQI : NO2 (0.78)\n",
        "*   SO2 : CO (0.76)\n",
        "*   NOx : NO (0.75)\n",
        "*   AQI : CO (0.73)\n",
        "*   AQI : SO2 (0.72)\n",
        "*   AQI : PM2.5 (0.71)\n",
        "\n",
        "\n",
        "Without considering the AQI, the pollutants with a strong correlation are SO2 and CO, and NOx and NO."
      ],
      "metadata": {
        "id": "QKTqCpjLtpDS"
      }
    },
    {
      "cell_type": "code",
      "source": [
        "def feature_selection(data):\n",
        "    \"\"\" Select features based on correlation with target variable AQI \"\"\"\n",
        "    correlation = data.corr()['AQI'].sort_values(ascending=False)\n",
        "    features = correlation[correlation > 0.5].index.tolist()\n",
        "    features.remove('AQI')\n",
        "    return features\n",
        "\n",
        "selected_feature = feature_selection(data_without_outliers)"
      ],
      "metadata": {
        "colab": {
          "base_uri": "https://localhost:8080/"
        },
        "id": "-YdHZ5Wpbsbd",
        "outputId": "ac53bba8-d36b-4437-cbab-c2c1c5275d0e"
      },
      "execution_count": 13,
      "outputs": [
        {
          "output_type": "stream",
          "name": "stderr",
          "text": [
            "<ipython-input-13-ed58d41e98bc>:3: FutureWarning:\n",
            "\n",
            "The default value of numeric_only in DataFrame.corr is deprecated. In a future version, it will default to False. Select only valid columns or specify the value of numeric_only to silence this warning.\n",
            "\n"
          ]
        }
      ]
    },
    {
      "cell_type": "markdown",
      "source": [
        "# **Plot Information about the count of AQI basket**"
      ],
      "metadata": {
        "id": "wFRsjHx7oFrY"
      }
    },
    {
      "cell_type": "code",
      "source": [
        "plot1 = sns.catplot(x=\"AQI_Bucket\",data=data,kind=\"count\")"
      ],
      "metadata": {
        "colab": {
          "base_uri": "https://localhost:8080/",
          "height": 506
        },
        "id": "WdZed737nyF_",
        "outputId": "9035d2a6-34d3-412a-ad01-acf208cb163d"
      },
      "execution_count": 14,
      "outputs": [
        {
          "output_type": "display_data",
          "data": {
            "text/plain": [
              "<Figure size 500x500 with 1 Axes>"
            ],
            "image/png": "[encoded data removed]"
          },
          "metadata": {}
        }
      ]
    },
    {
      "cell_type": "markdown",
      "source": [
        "# **Finding the number of reading with respect with each City.**"
      ],
      "metadata": {
        "id": "6NOkU4LuoP7N"
      }
    },
    {
      "cell_type": "code",
      "source": [
        "city_readings = data['City'].value_counts().to_frame().reset_index().rename(columns={'index':'City Name', 'City':'No. of readings'})\n",
        "print(city_readings)"
      ],
      "metadata": {
        "colab": {
          "base_uri": "https://localhost:8080/"
        },
        "id": "5H8FX1hFnsX0",
        "outputId": "bf1a08df-925e-4bbc-83c1-75ce48fd714f"
      },
      "execution_count": 15,
      "outputs": [
        {
          "output_type": "stream",
          "name": "stdout",
          "text": [
            "       City Name  No. of readings\n",
            "0      Ahmedabad             2009\n",
            "1      Bengaluru             2009\n",
            "2        Chennai             2009\n",
            "3          Delhi             1464\n",
            "4       Amritsar             1221\n",
            "5      Amaravati              951\n",
            "6   Brajrajnagar              938\n",
            "7     Coimbatore              386\n",
            "8     Chandigarh              304\n",
            "9         Bhopal              289\n",
            "10        Aizawl              113\n"
          ]
        }
      ]
    },
    {
      "cell_type": "code",
      "source": [
        "fig = px.bar(city_readings, x=\"City Name\", y=\"No. of readings\")\n",
        "fig.show()"
      ],
      "metadata": {
        "colab": {
          "base_uri": "https://localhost:8080/",
          "height": 542
        },
        "id": "dxwJydoAoXDo",
        "outputId": "cda9a5f2-56f3-491d-e68b-ed45b9bc1926"
      },
      "execution_count": 16,
      "outputs": [
        {
          "output_type": "display_data",
          "data": {
            "text/html": [
              "<html>\n",
              "<head><meta charset=\"utf-8\" /></head>\n",
              "<body>\n",
              "    <div>            <script src=\"https://cdnjs.cloudflare.com/ajax/libs/mathjax/2.7.5/MathJax.js?config=TeX-AMS-MML_SVG\"></script><script type=\"text/javascript\">if (window.MathJax && window.MathJax.Hub && window.MathJax.Hub.Config) {window.MathJax.Hub.Config({SVG: {font: \"STIX-Web\"}});}</script>                <script type=\"text/javascript\">window.PlotlyConfig = {MathJaxConfig: 'local'};</script>\n",
              "        <script charset=\"utf-8\" src=\"https://cdn.plot.ly/plotly-2.24.1.min.js\"></script>                <div id=\"6cb3a118-5402-4f87-aa85-901285e91516\" class=\"plotly-graph-div\" style=\"height:525px; width:100%;\"></div>            <script type=\"text/javascript\">                                    window.PLOTLYENV=window.PLOTLYENV || {};                                    if (document.getElementById(\"6cb3a118-5402-4f87-aa85-901285e91516\")) {                    Plotly.newPlot(                        \"6cb3a118-5402-4f87-aa85-901285e91516\",                        [{\"alignmentgroup\":\"True\",\"hovertemplate\":\"City Name=%{x}\\u003cbr\\u003eNo. of readings=%{y}\\u003cextra\\u003e\\u003c\\u002fextra\\u003e\",\"legendgroup\":\"\",\"marker\":{\"color\":\"#636efa\",\"pattern\":{\"shape\":\"\"}},\"name\":\"\",\"offsetgroup\":\"\",\"orientation\":\"v\",\"showlegend\":false,\"textposition\":\"auto\",\"x\":[\"Ahmedabad\",\"Bengaluru\",\"Chennai\",\"Delhi\",\"Amritsar\",\"Amaravati\",\"Brajrajnagar\",\"Coimbatore\",\"Chandigarh\",\"Bhopal\",\"Aizawl\"],\"xaxis\":\"x\",\"y\":[2009,2009,2009,1464,1221,951,938,386,304,289,113],\"yaxis\":\"y\",\"type\":\"bar\"}],                        {\"template\":{\"data\":{\"histogram2dcontour\":[{\"type\":\"histogram2dcontour\",\"colorbar\":{\"outlinewidth\":0,\"ticks\":\"\"},\"colorscale\":[[0.0,\"#0d0887\"],[0.1111111111111111,\"#46039f\"],[0.2222222222222222,\"#7201a8\"],[0.3333333333333333,\"#9c179e\"],[0.4444444444444444,\"#bd3786\"],[0.5555555555555556,\"#d8576b\"],[0.6666666666666666,\"#ed7953\"],[0.7777777777777778,\"#fb9f3a\"],[0.8888888888888888,\"#fdca26\"],[1.0,\"#f0f921\"]]}],\"choropleth\":[{\"type\":\"choropleth\",\"colorbar\":{\"outlinewidth\":0,\"ticks\":\"\"}}],\"histogram2d\":[{\"type\":\"histogram2d\",\"colorbar\":{\"outlinewidth\":0,\"ticks\":\"\"},\"colorscale\":[[0.0,\"#0d0887\"],[0.1111111111111111,\"#46039f\"],[0.2222222222222222,\"#7201a8\"],[0.3333333333333333,\"#9c179e\"],[0.4444444444444444,\"#bd3786\"],[0.5555555555555556,\"#d8576b\"],[0.6666666666666666,\"#ed7953\"],[0.7777777777777778,\"#fb9f3a\"],[0.8888888888888888,\"#fdca26\"],[1.0,\"#f0f921\"]]}],\"heatmap\":[{\"type\":\"heatmap\",\"colorbar\":{\"outlinewidth\":0,\"ticks\":\"\"},\"colorscale\":[[0.0,\"#0d0887\"],[0.1111111111111111,\"#46039f\"],[0.2222222222222222,\"#7201a8\"],[0.3333333333333333,\"#9c179e\"],[0.4444444444444444,\"#bd3786\"],[0.5555555555555556,\"#d8576b\"],[0.6666666666666666,\"#ed7953\"],[0.7777777777777778,\"#fb9f3a\"],[0.8888888888888888,\"#fdca26\"],[1.0,\"#f0f921\"]]}],\"heatmapgl\":[{\"type\":\"heatmapgl\",\"colorbar\":{\"outlinewidth\":0,\"ticks\":\"\"},\"colorscale\":[[0.0,\"#0d0887\"],[0.1111111111111111,\"#46039f\"],[0.2222222222222222,\"#7201a8\"],[0.3333333333333333,\"#9c179e\"],[0.4444444444444444,\"#bd3786\"],[0.5555555555555556,\"#d8576b\"],[0.6666666666666666,\"#ed7953\"],[0.7777777777777778,\"#fb9f3a\"],[0.8888888888888888,\"#fdca26\"],[1.0,\"#f0f921\"]]}],\"contourcarpet\":[{\"type\":\"contourcarpet\",\"colorbar\":{\"outlinewidth\":0,\"ticks\":\"\"}}],\"contour\":[{\"type\":\"contour\",\"colorbar\":{\"outlinewidth\":0,\"ticks\":\"\"},\"colorscale\":[[0.0,\"#0d0887\"],[0.1111111111111111,\"#46039f\"],[0.2222222222222222,\"#7201a8\"],[0.3333333333333333,\"#9c179e\"],[0.4444444444444444,\"#bd3786\"],[0.5555555555555556,\"#d8576b\"],[0.6666666666666666,\"#ed7953\"],[0.7777777777777778,\"#fb9f3a\"],[0.8888888888888888,\"#fdca26\"],[1.0,\"#f0f921\"]]}],\"surface\":[{\"type\":\"surface\",\"colorbar\":{\"outlinewidth\":0,\"ticks\":\"\"},\"colorscale\":[[0.0,\"#0d0887\"],[0.1111111111111111,\"#46039f\"],[0.2222222222222222,\"#7201a8\"],[0.3333333333333333,\"#9c179e\"],[0.4444444444444444,\"#bd3786\"],[0.5555555555555556,\"#d8576b\"],[0.6666666666666666,\"#ed7953\"],[0.7777777777777778,\"#fb9f3a\"],[0.8888888888888888,\"#fdca26\"],[1.0,\"#f0f921\"]]}],\"mesh3d\":[{\"type\":\"mesh3d\",\"colorbar\":{\"outlinewidth\":0,\"ticks\":\"\"}}],\"scatter\":[{\"fillpattern\":{\"fillmode\":\"overlay\",\"size\":10,\"solidity\":0.2},\"type\":\"scatter\"}],\"parcoords\":[{\"type\":\"parcoords\",\"line\":{\"colorbar\":{\"outlinewidth\":0,\"ticks\":\"\"}}}],\"scatterpolargl\":[{\"type\":\"scatterpolargl\",\"marker\":{\"colorbar\":{\"outlinewidth\":0,\"ticks\":\"\"}}}],\"bar\":[{\"error_x\":{\"color\":\"#2a3f5f\"},\"error_y\":{\"color\":\"#2a3f5f\"},\"marker\":{\"line\":{\"color\":\"#E5ECF6\",\"width\":0.5},\"pattern\":{\"fillmode\":\"overlay\",\"size\":10,\"solidity\":0.2}},\"type\":\"bar\"}],\"scattergeo\":[{\"type\":\"scattergeo\",\"marker\":{\"colorbar\":{\"outlinewidth\":0,\"ticks\":\"\"}}}],\"scatterpolar\":[{\"type\":\"scatterpolar\",\"marker\":{\"colorbar\":{\"outlinewidth\":0,\"ticks\":\"\"}}}],\"histogram\":[{\"marker\":{\"pattern\":{\"fillmode\":\"overlay\",\"size\":10,\"solidity\":0.2}},\"type\":\"histogram\"}],\"scattergl\":[{\"type\":\"scattergl\",\"marker\":{\"colorbar\":{\"outlinewidth\":0,\"ticks\":\"\"}}}],\"scatter3d\":[{\"type\":\"scatter3d\",\"line\":{\"colorbar\":{\"outlinewidth\":0,\"ticks\":\"\"}},\"marker\":{\"colorbar\":{\"outlinewidth\":0,\"ticks\":\"\"}}}],\"scattermapbox\":[{\"type\":\"scattermapbox\",\"marker\":{\"colorbar\":{\"outlinewidth\":0,\"ticks\":\"\"}}}],\"scatterternary\":[{\"type\":\"scatterternary\",\"marker\":{\"colorbar\":{\"outlinewidth\":0,\"ticks\":\"\"}}}],\"scattercarpet\":[{\"type\":\"scattercarpet\",\"marker\":{\"colorbar\":{\"outlinewidth\":0,\"ticks\":\"\"}}}],\"carpet\":[{\"aaxis\":{\"endlinecolor\":\"#2a3f5f\",\"gridcolor\":\"white\",\"linecolor\":\"white\",\"minorgridcolor\":\"white\",\"startlinecolor\":\"#2a3f5f\"},\"baxis\":{\"endlinecolor\":\"#2a3f5f\",\"gridcolor\":\"white\",\"linecolor\":\"white\",\"minorgridcolor\":\"white\",\"startlinecolor\":\"#2a3f5f\"},\"type\":\"carpet\"}],\"table\":[{\"cells\":{\"fill\":{\"color\":\"#EBF0F8\"},\"line\":{\"color\":\"white\"}},\"header\":{\"fill\":{\"color\":\"#C8D4E3\"},\"line\":{\"color\":\"white\"}},\"type\":\"table\"}],\"barpolar\":[{\"marker\":{\"line\":{\"color\":\"#E5ECF6\",\"width\":0.5},\"pattern\":{\"fillmode\":\"overlay\",\"size\":10,\"solidity\":0.2}},\"type\":\"barpolar\"}],\"pie\":[{\"automargin\":true,\"type\":\"pie\"}]},\"layout\":{\"autotypenumbers\":\"strict\",\"colorway\":[\"#636efa\",\"#EF553B\",\"#00cc96\",\"#ab63fa\",\"#FFA15A\",\"#19d3f3\",\"#FF6692\",\"#B6E880\",\"#FF97FF\",\"#FECB52\"],\"font\":{\"color\":\"#2a3f5f\"},\"hovermode\":\"closest\",\"hoverlabel\":{\"align\":\"left\"},\"paper_bgcolor\":\"white\",\"plot_bgcolor\":\"#E5ECF6\",\"polar\":{\"bgcolor\":\"#E5ECF6\",\"angularaxis\":{\"gridcolor\":\"white\",\"linecolor\":\"white\",\"ticks\":\"\"},\"radialaxis\":{\"gridcolor\":\"white\",\"linecolor\":\"white\",\"ticks\":\"\"}},\"ternary\":{\"bgcolor\":\"#E5ECF6\",\"aaxis\":{\"gridcolor\":\"white\",\"linecolor\":\"white\",\"ticks\":\"\"},\"baxis\":{\"gridcolor\":\"white\",\"linecolor\":\"white\",\"ticks\":\"\"},\"caxis\":{\"gridcolor\":\"white\",\"linecolor\":\"white\",\"ticks\":\"\"}},\"coloraxis\":{\"colorbar\":{\"outlinewidth\":0,\"ticks\":\"\"}},\"colorscale\":{\"sequential\":[[0.0,\"#0d0887\"],[0.1111111111111111,\"#46039f\"],[0.2222222222222222,\"#7201a8\"],[0.3333333333333333,\"#9c179e\"],[0.4444444444444444,\"#bd3786\"],[0.5555555555555556,\"#d8576b\"],[0.6666666666666666,\"#ed7953\"],[0.7777777777777778,\"#fb9f3a\"],[0.8888888888888888,\"#fdca26\"],[1.0,\"#f0f921\"]],\"sequentialminus\":[[0.0,\"#0d0887\"],[0.1111111111111111,\"#46039f\"],[0.2222222222222222,\"#7201a8\"],[0.3333333333333333,\"#9c179e\"],[0.4444444444444444,\"#bd3786\"],[0.5555555555555556,\"#d8576b\"],[0.6666666666666666,\"#ed7953\"],[0.7777777777777778,\"#fb9f3a\"],[0.8888888888888888,\"#fdca26\"],[1.0,\"#f0f921\"]],\"diverging\":[[0,\"#8e0152\"],[0.1,\"#c51b7d\"],[0.2,\"#de77ae\"],[0.3,\"#f1b6da\"],[0.4,\"#fde0ef\"],[0.5,\"#f7f7f7\"],[0.6,\"#e6f5d0\"],[0.7,\"#b8e186\"],[0.8,\"#7fbc41\"],[0.9,\"#4d9221\"],[1,\"#276419\"]]},\"xaxis\":{\"gridcolor\":\"white\",\"linecolor\":\"white\",\"ticks\":\"\",\"title\":{\"standoff\":15},\"zerolinecolor\":\"white\",\"automargin\":true,\"zerolinewidth\":2},\"yaxis\":{\"gridcolor\":\"white\",\"linecolor\":\"white\",\"ticks\":\"\",\"title\":{\"standoff\":15},\"zerolinecolor\":\"white\",\"automargin\":true,\"zerolinewidth\":2},\"scene\":{\"xaxis\":{\"backgroundcolor\":\"#E5ECF6\",\"gridcolor\":\"white\",\"linecolor\":\"white\",\"showbackground\":true,\"ticks\":\"\",\"zerolinecolor\":\"white\",\"gridwidth\":2},\"yaxis\":{\"backgroundcolor\":\"#E5ECF6\",\"gridcolor\":\"white\",\"linecolor\":\"white\",\"showbackground\":true,\"ticks\":\"\",\"zerolinecolor\":\"white\",\"gridwidth\":2},\"zaxis\":{\"backgroundcolor\":\"#E5ECF6\",\"gridcolor\":\"white\",\"linecolor\":\"white\",\"showbackground\":true,\"ticks\":\"\",\"zerolinecolor\":\"white\",\"gridwidth\":2}},\"shapedefaults\":{\"line\":{\"color\":\"#2a3f5f\"}},\"annotationdefaults\":{\"arrowcolor\":\"#2a3f5f\",\"arrowhead\":0,\"arrowwidth\":1},\"geo\":{\"bgcolor\":\"white\",\"landcolor\":\"#E5ECF6\",\"subunitcolor\":\"white\",\"showland\":true,\"showlakes\":true,\"lakecolor\":\"white\"},\"title\":{\"x\":0.05},\"mapbox\":{\"style\":\"light\"}}},\"xaxis\":{\"anchor\":\"y\",\"domain\":[0.0,1.0],\"title\":{\"text\":\"City Name\"}},\"yaxis\":{\"anchor\":\"x\",\"domain\":[0.0,1.0],\"title\":{\"text\":\"No. of readings\"}},\"legend\":{\"tracegroupgap\":0},\"margin\":{\"t\":60},\"barmode\":\"relative\"},                        {\"responsive\": true}                    ).then(function(){\n",
              "                            \n",
              "var gd = document.getElementById('6cb3a118-5402-4f87-aa85-901285e91516');\n",
              "var x = new MutationObserver(function (mutations, observer) {{\n",
              "        var display = window.getComputedStyle(gd).display;\n",
              "        if (!display || display === 'none') {{\n",
              "            console.log([gd, 'removed!']);\n",
              "            Plotly.purge(gd);\n",
              "            observer.disconnect();\n",
              "        }}\n",
              "}});\n",
              "\n",
              "// Listen for the removal of the full notebook cells\n",
              "var notebookContainer = gd.closest('#notebook-container');\n",
              "if (notebookContainer) {{\n",
              "    x.observe(notebookContainer, {childList: true});\n",
              "}}\n",
              "\n",
              "// Listen for the clearing of the current output cell\n",
              "var outputEl = gd.closest('.output');\n",
              "if (outputEl) {{\n",
              "    x.observe(outputEl, {childList: true});\n",
              "}}\n",
              "\n",
              "                        })                };                            </script>        </div>\n",
              "</body>\n",
              "</html>"
            ]
          },
          "metadata": {}
        }
      ]
    },
    {
      "cell_type": "markdown",
      "source": [
        "# **Ploting the bar plot to find the scewness in the data set...**\n",
        "\n",
        "Skewness is a measurement of the distortion of symmetrical distribution or asymmetry in a data set. **bold text**"
      ],
      "metadata": {
        "id": "PETDCMwKpx2m"
      }
    },
    {
      "cell_type": "code",
      "source": [
        "#analyzing skewness in data\n",
        "#here we observe high skewness in Bezene,Toluene,CO and Xylene\n",
        "\n",
        "skew=pd.DataFrame(data.skew().sort_values(ascending=False))\n",
        "skew.columns=['Skewness']\n",
        "\n",
        "plt.xticks(rotation=75)\n",
        "sns.barplot(x=skew.index,y='Skewness',data=skew,\n",
        "            edgecolor='black',\n",
        "            linewidth=0.2,\n",
        "            palette='viridis_r')\n",
        "plt.xlabel('Features')"
      ],
      "metadata": {
        "colab": {
          "base_uri": "https://localhost:8080/",
          "height": 606
        },
        "id": "npaO6l3hp6bn",
        "outputId": "50318987-5077-4f53-d06c-b56e575d0165"
      },
      "execution_count": 18,
      "outputs": [
        {
          "output_type": "stream",
          "name": "stderr",
          "text": [
            "<ipython-input-18-79ba1d843611>:4: FutureWarning:\n",
            "\n",
            "The default value of numeric_only in DataFrame.skew is deprecated. In a future version, it will default to False. In addition, specifying 'numeric_only=None' is deprecated. Select only valid columns or specify the value of numeric_only to silence this warning.\n",
            "\n"
          ]
        },
        {
          "output_type": "execute_result",
          "data": {
            "text/plain": [
              "Text(0.5, 0, 'Features')"
            ]
          },
          "metadata": {},
          "execution_count": 18
        },
        {
          "output_type": "display_data",
          "data": {
            "text/plain": [
              "<Figure size 640x480 with 1 Axes>"
            ],
            "image/png": "[encoded data removed]"
          },
          "metadata": {}
        }
      ]
    },
    {
      "cell_type": "markdown",
      "source": [
        "# **Plot Average readings for AQI across all cities (pie chart)**"
      ],
      "metadata": {
        "id": "bVX4hCBBqNdh"
      }
    },
    {
      "cell_type": "code",
      "source": [
        "avg_readings = data.groupby('City').mean().reset_index().round(2)\n",
        "avg_readings\n",
        "\n",
        "# avg readings for AQI across all cities (pie chart)\n",
        "trace13=go.Pie(labels=avg_readings['City'], values=avg_readings['AQI'],\n",
        "             title='Average AQI readings by City')\n",
        "fig=go.Figure(trace13)\n",
        "fig.update_traces(textposition='inside')\n",
        "fig=fig.update_layout(uniformtext_minsize=12, uniformtext_mode='hide')\n",
        "fig.show()"
      ],
      "metadata": {
        "colab": {
          "base_uri": "https://localhost:8080/",
          "height": 633
        },
        "id": "v6yJAd-uqDd4",
        "outputId": "f053d713-a517-4b03-fc6b-b5429aea81cb"
      },
      "execution_count": 21,
      "outputs": [
        {
          "output_type": "stream",
          "name": "stderr",
          "text": [
            "<ipython-input-21-677cb8991d3f>:1: FutureWarning:\n",
            "\n",
            "The default value of numeric_only in DataFrameGroupBy.mean is deprecated. In a future version, numeric_only will default to False. Either specify numeric_only or select only columns which should be valid for the function.\n",
            "\n"
          ]
        },
        {
          "output_type": "display_data",
          "data": {
            "text/html": [
              "<html>\n",
              "<head><meta charset=\"utf-8\" /></head>\n",
              "<body>\n",
              "    <div>            <script src=\"https://cdnjs.cloudflare.com/ajax/libs/mathjax/2.7.5/MathJax.js?config=TeX-AMS-MML_SVG\"></script><script type=\"text/javascript\">if (window.MathJax && window.MathJax.Hub && window.MathJax.Hub.Config) {window.MathJax.Hub.Config({SVG: {font: \"STIX-Web\"}});}</script>                <script type=\"text/javascript\">window.PlotlyConfig = {MathJaxConfig: 'local'};</script>\n",
              "        <script charset=\"utf-8\" src=\"https://cdn.plot.ly/plotly-2.24.1.min.js\"></script>                <div id=\"a4be102e-2cdf-4bfe-af1c-3253d0615438\" class=\"plotly-graph-div\" style=\"height:525px; width:100%;\"></div>            <script type=\"text/javascript\">                                    window.PLOTLYENV=window.PLOTLYENV || {};                                    if (document.getElementById(\"a4be102e-2cdf-4bfe-af1c-3253d0615438\")) {                    Plotly.newPlot(                        \"a4be102e-2cdf-4bfe-af1c-3253d0615438\",                        [{\"labels\":[\"Ahmedabad\",\"Aizawl\",\"Amaravati\",\"Amritsar\",\"Bengaluru\",\"Bhopal\",\"Brajrajnagar\",\"Chandigarh\",\"Chennai\",\"Coimbatore\",\"Delhi\"],\"title\":{\"text\":\"Average AQI readings by City\"},\"values\":[452.12,34.77,95.3,119.92,94.32,132.83,150.28,96.5,114.5,73.02,276.48],\"type\":\"pie\",\"textposition\":\"inside\"}],                        {\"template\":{\"data\":{\"histogram2dcontour\":[{\"type\":\"histogram2dcontour\",\"colorbar\":{\"outlinewidth\":0,\"ticks\":\"\"},\"colorscale\":[[0.0,\"#0d0887\"],[0.1111111111111111,\"#46039f\"],[0.2222222222222222,\"#7201a8\"],[0.3333333333333333,\"#9c179e\"],[0.4444444444444444,\"#bd3786\"],[0.5555555555555556,\"#d8576b\"],[0.6666666666666666,\"#ed7953\"],[0.7777777777777778,\"#fb9f3a\"],[0.8888888888888888,\"#fdca26\"],[1.0,\"#f0f921\"]]}],\"choropleth\":[{\"type\":\"choropleth\",\"colorbar\":{\"outlinewidth\":0,\"ticks\":\"\"}}],\"histogram2d\":[{\"type\":\"histogram2d\",\"colorbar\":{\"outlinewidth\":0,\"ticks\":\"\"},\"colorscale\":[[0.0,\"#0d0887\"],[0.1111111111111111,\"#46039f\"],[0.2222222222222222,\"#7201a8\"],[0.3333333333333333,\"#9c179e\"],[0.4444444444444444,\"#bd3786\"],[0.5555555555555556,\"#d8576b\"],[0.6666666666666666,\"#ed7953\"],[0.7777777777777778,\"#fb9f3a\"],[0.8888888888888888,\"#fdca26\"],[1.0,\"#f0f921\"]]}],\"heatmap\":[{\"type\":\"heatmap\",\"colorbar\":{\"outlinewidth\":0,\"ticks\":\"\"},\"colorscale\":[[0.0,\"#0d0887\"],[0.1111111111111111,\"#46039f\"],[0.2222222222222222,\"#7201a8\"],[0.3333333333333333,\"#9c179e\"],[0.4444444444444444,\"#bd3786\"],[0.5555555555555556,\"#d8576b\"],[0.6666666666666666,\"#ed7953\"],[0.7777777777777778,\"#fb9f3a\"],[0.8888888888888888,\"#fdca26\"],[1.0,\"#f0f921\"]]}],\"heatmapgl\":[{\"type\":\"heatmapgl\",\"colorbar\":{\"outlinewidth\":0,\"ticks\":\"\"},\"colorscale\":[[0.0,\"#0d0887\"],[0.1111111111111111,\"#46039f\"],[0.2222222222222222,\"#7201a8\"],[0.3333333333333333,\"#9c179e\"],[0.4444444444444444,\"#bd3786\"],[0.5555555555555556,\"#d8576b\"],[0.6666666666666666,\"#ed7953\"],[0.7777777777777778,\"#fb9f3a\"],[0.8888888888888888,\"#fdca26\"],[1.0,\"#f0f921\"]]}],\"contourcarpet\":[{\"type\":\"contourcarpet\",\"colorbar\":{\"outlinewidth\":0,\"ticks\":\"\"}}],\"contour\":[{\"type\":\"contour\",\"colorbar\":{\"outlinewidth\":0,\"ticks\":\"\"},\"colorscale\":[[0.0,\"#0d0887\"],[0.1111111111111111,\"#46039f\"],[0.2222222222222222,\"#7201a8\"],[0.3333333333333333,\"#9c179e\"],[0.4444444444444444,\"#bd3786\"],[0.5555555555555556,\"#d8576b\"],[0.6666666666666666,\"#ed7953\"],[0.7777777777777778,\"#fb9f3a\"],[0.8888888888888888,\"#fdca26\"],[1.0,\"#f0f921\"]]}],\"surface\":[{\"type\":\"surface\",\"colorbar\":{\"outlinewidth\":0,\"ticks\":\"\"},\"colorscale\":[[0.0,\"#0d0887\"],[0.1111111111111111,\"#46039f\"],[0.2222222222222222,\"#7201a8\"],[0.3333333333333333,\"#9c179e\"],[0.4444444444444444,\"#bd3786\"],[0.5555555555555556,\"#d8576b\"],[0.6666666666666666,\"#ed7953\"],[0.7777777777777778,\"#fb9f3a\"],[0.8888888888888888,\"#fdca26\"],[1.0,\"#f0f921\"]]}],\"mesh3d\":[{\"type\":\"mesh3d\",\"colorbar\":{\"outlinewidth\":0,\"ticks\":\"\"}}],\"scatter\":[{\"fillpattern\":{\"fillmode\":\"overlay\",\"size\":10,\"solidity\":0.2},\"type\":\"scatter\"}],\"parcoords\":[{\"type\":\"parcoords\",\"line\":{\"colorbar\":{\"outlinewidth\":0,\"ticks\":\"\"}}}],\"scatterpolargl\":[{\"type\":\"scatterpolargl\",\"marker\":{\"colorbar\":{\"outlinewidth\":0,\"ticks\":\"\"}}}],\"bar\":[{\"error_x\":{\"color\":\"#2a3f5f\"},\"error_y\":{\"color\":\"#2a3f5f\"},\"marker\":{\"line\":{\"color\":\"#E5ECF6\",\"width\":0.5},\"pattern\":{\"fillmode\":\"overlay\",\"size\":10,\"solidity\":0.2}},\"type\":\"bar\"}],\"scattergeo\":[{\"type\":\"scattergeo\",\"marker\":{\"colorbar\":{\"outlinewidth\":0,\"ticks\":\"\"}}}],\"scatterpolar\":[{\"type\":\"scatterpolar\",\"marker\":{\"colorbar\":{\"outlinewidth\":0,\"ticks\":\"\"}}}],\"histogram\":[{\"marker\":{\"pattern\":{\"fillmode\":\"overlay\",\"size\":10,\"solidity\":0.2}},\"type\":\"histogram\"}],\"scattergl\":[{\"type\":\"scattergl\",\"marker\":{\"colorbar\":{\"outlinewidth\":0,\"ticks\":\"\"}}}],\"scatter3d\":[{\"type\":\"scatter3d\",\"line\":{\"colorbar\":{\"outlinewidth\":0,\"ticks\":\"\"}},\"marker\":{\"colorbar\":{\"outlinewidth\":0,\"ticks\":\"\"}}}],\"scattermapbox\":[{\"type\":\"scattermapbox\",\"marker\":{\"colorbar\":{\"outlinewidth\":0,\"ticks\":\"\"}}}],\"scatterternary\":[{\"type\":\"scatterternary\",\"marker\":{\"colorbar\":{\"outlinewidth\":0,\"ticks\":\"\"}}}],\"scattercarpet\":[{\"type\":\"scattercarpet\",\"marker\":{\"colorbar\":{\"outlinewidth\":0,\"ticks\":\"\"}}}],\"carpet\":[{\"aaxis\":{\"endlinecolor\":\"#2a3f5f\",\"gridcolor\":\"white\",\"linecolor\":\"white\",\"minorgridcolor\":\"white\",\"startlinecolor\":\"#2a3f5f\"},\"baxis\":{\"endlinecolor\":\"#2a3f5f\",\"gridcolor\":\"white\",\"linecolor\":\"white\",\"minorgridcolor\":\"white\",\"startlinecolor\":\"#2a3f5f\"},\"type\":\"carpet\"}],\"table\":[{\"cells\":{\"fill\":{\"color\":\"#EBF0F8\"},\"line\":{\"color\":\"white\"}},\"header\":{\"fill\":{\"color\":\"#C8D4E3\"},\"line\":{\"color\":\"white\"}},\"type\":\"table\"}],\"barpolar\":[{\"marker\":{\"line\":{\"color\":\"#E5ECF6\",\"width\":0.5},\"pattern\":{\"fillmode\":\"overlay\",\"size\":10,\"solidity\":0.2}},\"type\":\"barpolar\"}],\"pie\":[{\"automargin\":true,\"type\":\"pie\"}]},\"layout\":{\"autotypenumbers\":\"strict\",\"colorway\":[\"#636efa\",\"#EF553B\",\"#00cc96\",\"#ab63fa\",\"#FFA15A\",\"#19d3f3\",\"#FF6692\",\"#B6E880\",\"#FF97FF\",\"#FECB52\"],\"font\":{\"color\":\"#2a3f5f\"},\"hovermode\":\"closest\",\"hoverlabel\":{\"align\":\"left\"},\"paper_bgcolor\":\"white\",\"plot_bgcolor\":\"#E5ECF6\",\"polar\":{\"bgcolor\":\"#E5ECF6\",\"angularaxis\":{\"gridcolor\":\"white\",\"linecolor\":\"white\",\"ticks\":\"\"},\"radialaxis\":{\"gridcolor\":\"white\",\"linecolor\":\"white\",\"ticks\":\"\"}},\"ternary\":{\"bgcolor\":\"#E5ECF6\",\"aaxis\":{\"gridcolor\":\"white\",\"linecolor\":\"white\",\"ticks\":\"\"},\"baxis\":{\"gridcolor\":\"white\",\"linecolor\":\"white\",\"ticks\":\"\"},\"caxis\":{\"gridcolor\":\"white\",\"linecolor\":\"white\",\"ticks\":\"\"}},\"coloraxis\":{\"colorbar\":{\"outlinewidth\":0,\"ticks\":\"\"}},\"colorscale\":{\"sequential\":[[0.0,\"#0d0887\"],[0.1111111111111111,\"#46039f\"],[0.2222222222222222,\"#7201a8\"],[0.3333333333333333,\"#9c179e\"],[0.4444444444444444,\"#bd3786\"],[0.5555555555555556,\"#d8576b\"],[0.6666666666666666,\"#ed7953\"],[0.7777777777777778,\"#fb9f3a\"],[0.8888888888888888,\"#fdca26\"],[1.0,\"#f0f921\"]],\"sequentialminus\":[[0.0,\"#0d0887\"],[0.1111111111111111,\"#46039f\"],[0.2222222222222222,\"#7201a8\"],[0.3333333333333333,\"#9c179e\"],[0.4444444444444444,\"#bd3786\"],[0.5555555555555556,\"#d8576b\"],[0.6666666666666666,\"#ed7953\"],[0.7777777777777778,\"#fb9f3a\"],[0.8888888888888888,\"#fdca26\"],[1.0,\"#f0f921\"]],\"diverging\":[[0,\"#8e0152\"],[0.1,\"#c51b7d\"],[0.2,\"#de77ae\"],[0.3,\"#f1b6da\"],[0.4,\"#fde0ef\"],[0.5,\"#f7f7f7\"],[0.6,\"#e6f5d0\"],[0.7,\"#b8e186\"],[0.8,\"#7fbc41\"],[0.9,\"#4d9221\"],[1,\"#276419\"]]},\"xaxis\":{\"gridcolor\":\"white\",\"linecolor\":\"white\",\"ticks\":\"\",\"title\":{\"standoff\":15},\"zerolinecolor\":\"white\",\"automargin\":true,\"zerolinewidth\":2},\"yaxis\":{\"gridcolor\":\"white\",\"linecolor\":\"white\",\"ticks\":\"\",\"title\":{\"standoff\":15},\"zerolinecolor\":\"white\",\"automargin\":true,\"zerolinewidth\":2},\"scene\":{\"xaxis\":{\"backgroundcolor\":\"#E5ECF6\",\"gridcolor\":\"white\",\"linecolor\":\"white\",\"showbackground\":true,\"ticks\":\"\",\"zerolinecolor\":\"white\",\"gridwidth\":2},\"yaxis\":{\"backgroundcolor\":\"#E5ECF6\",\"gridcolor\":\"white\",\"linecolor\":\"white\",\"showbackground\":true,\"ticks\":\"\",\"zerolinecolor\":\"white\",\"gridwidth\":2},\"zaxis\":{\"backgroundcolor\":\"#E5ECF6\",\"gridcolor\":\"white\",\"linecolor\":\"white\",\"showbackground\":true,\"ticks\":\"\",\"zerolinecolor\":\"white\",\"gridwidth\":2}},\"shapedefaults\":{\"line\":{\"color\":\"#2a3f5f\"}},\"annotationdefaults\":{\"arrowcolor\":\"#2a3f5f\",\"arrowhead\":0,\"arrowwidth\":1},\"geo\":{\"bgcolor\":\"white\",\"landcolor\":\"#E5ECF6\",\"subunitcolor\":\"white\",\"showland\":true,\"showlakes\":true,\"lakecolor\":\"white\"},\"title\":{\"x\":0.05},\"mapbox\":{\"style\":\"light\"}}},\"uniformtext\":{\"minsize\":12,\"mode\":\"hide\"}},                        {\"responsive\": true}                    ).then(function(){\n",
              "                            \n",
              "var gd = document.getElementById('a4be102e-2cdf-4bfe-af1c-3253d0615438');\n",
              "var x = new MutationObserver(function (mutations, observer) {{\n",
              "        var display = window.getComputedStyle(gd).display;\n",
              "        if (!display || display === 'none') {{\n",
              "            console.log([gd, 'removed!']);\n",
              "            Plotly.purge(gd);\n",
              "            observer.disconnect();\n",
              "        }}\n",
              "}});\n",
              "\n",
              "// Listen for the removal of the full notebook cells\n",
              "var notebookContainer = gd.closest('#notebook-container');\n",
              "if (notebookContainer) {{\n",
              "    x.observe(notebookContainer, {childList: true});\n",
              "}}\n",
              "\n",
              "// Listen for the clearing of the current output cell\n",
              "var outputEl = gd.closest('.output');\n",
              "if (outputEl) {{\n",
              "    x.observe(outputEl, {childList: true});\n",
              "}}\n",
              "\n",
              "                        })                };                            </script>        </div>\n",
              "</body>\n",
              "</html>"
            ]
          },
          "metadata": {}
        }
      ]
    },
    {
      "cell_type": "markdown",
      "source": [
        "# **MODEL TRAINING**"
      ],
      "metadata": {
        "id": "9Wu5kwYPauPJ"
      }
    },
    {
      "cell_type": "code",
      "source": [
        "# Split data\n",
        "X = data_without_outliers[selected_feature]\n",
        "y = data_without_outliers['AQI']\n",
        "X_train, X_test, y_train, y_test = train_test_split(X, y, test_size=0.2, random_state=42)\n",
        "\n",
        "lr = LinearRegression().fit(X_train, y_train)\n",
        "lr.fit(X_train, y_train)\n",
        "\n",
        "param_grid_rf = {\n",
        "    'n_estimators': [50, 100, 150],\n",
        "    'max_depth': [None, 10, 20],\n",
        "    'min_samples_split': [2, 5, 10]\n",
        "}\n",
        "\n",
        "rf = RandomForestRegressor()\n",
        "grid_search_rf = GridSearchCV(estimator=rf, param_grid=param_grid_rf, cv=3, scoring='neg_mean_squared_error')\n",
        "grid_search_rf.fit(X_train, y_train)\n",
        "best_rf = grid_search_rf.best_estimator_\n",
        "\n",
        "gb = GradientBoostingRegressor().fit(X_train, y_train)\n",
        "gb.fit(X_train, y_train)\n",
        "\n",
        "svr = SVR().fit(X_train, y_train)\n",
        "svr.fit(X_train, y_train)"
      ],
      "metadata": {
        "colab": {
          "base_uri": "https://localhost:8080/",
          "height": 75
        },
        "id": "EgC1aJiYcMyW",
        "outputId": "41904a91-cda1-40a9-f5a3-0e3b4bc71256"
      },
      "execution_count": 25,
      "outputs": [
        {
          "output_type": "execute_result",
          "data": {
            "text/plain": [
              "SVR()"
            ],
            "text/html": [
              "<style>#sk-container-id-2 {color: black;background-color: white;}#sk-container-id-2 pre{padding: 0;}#sk-container-id-2 div.sk-toggleable {background-color: white;}#sk-container-id-2 label.sk-toggleable__label {cursor: pointer;display: block;width: 100%;margin-bottom: 0;padding: 0.3em;box-sizing: border-box;text-align: center;}#sk-container-id-2 label.sk-toggleable__label-arrow:before {content: \"▸\";float: left;margin-right: 0.25em;color: #696969;}#sk-container-id-2 label.sk-toggleable__label-arrow:hover:before {color: black;}#sk-container-id-2 div.sk-estimator:hover label.sk-toggleable__label-arrow:before {color: black;}#sk-container-id-2 div.sk-toggleable__content {max-height: 0;max-width: 0;overflow: hidden;text-align: left;background-color: #f0f8ff;}#sk-container-id-2 div.sk-toggleable__content pre {margin: 0.2em;color: black;border-radius: 0.25em;background-color: #f0f8ff;}#sk-container-id-2 input.sk-toggleable__control:checked~div.sk-toggleable__content {max-height: 200px;max-width: 100%;overflow: auto;}#sk-container-id-2 input.sk-toggleable__control:checked~label.sk-toggleable__label-arrow:before {content: \"▾\";}#sk-container-id-2 div.sk-estimator input.sk-toggleable__control:checked~label.sk-toggleable__label {background-color: #d4ebff;}#sk-container-id-2 div.sk-label input.sk-toggleable__control:checked~label.sk-toggleable__label {background-color: #d4ebff;}#sk-container-id-2 input.sk-hidden--visually {border: 0;clip: rect(1px 1px 1px 1px);clip: rect(1px, 1px, 1px, 1px);height: 1px;margin: -1px;overflow: hidden;padding: 0;position: absolute;width: 1px;}#sk-container-id-2 div.sk-estimator {font-family: monospace;background-color: #f0f8ff;border: 1px dotted black;border-radius: 0.25em;box-sizing: border-box;margin-bottom: 0.5em;}#sk-container-id-2 div.sk-estimator:hover {background-color: #d4ebff;}#sk-container-id-2 div.sk-parallel-item::after {content: \"\";width: 100%;border-bottom: 1px solid gray;flex-grow: 1;}#sk-container-id-2 div.sk-label:hover label.sk-toggleable__label {background-color: #d4ebff;}#sk-container-id-2 div.sk-serial::before {content: \"\";position: absolute;border-left: 1px solid gray;box-sizing: border-box;top: 0;bottom: 0;left: 50%;z-index: 0;}#sk-container-id-2 div.sk-serial {display: flex;flex-direction: column;align-items: center;background-color: white;padding-right: 0.2em;padding-left: 0.2em;position: relative;}#sk-container-id-2 div.sk-item {position: relative;z-index: 1;}#sk-container-id-2 div.sk-parallel {display: flex;align-items: stretch;justify-content: center;background-color: white;position: relative;}#sk-container-id-2 div.sk-item::before, #sk-container-id-2 div.sk-parallel-item::before {content: \"\";position: absolute;border-left: 1px solid gray;box-sizing: border-box;top: 0;bottom: 0;left: 50%;z-index: -1;}#sk-container-id-2 div.sk-parallel-item {display: flex;flex-direction: column;z-index: 1;position: relative;background-color: white;}#sk-container-id-2 div.sk-parallel-item:first-child::after {align-self: flex-end;width: 50%;}#sk-container-id-2 div.sk-parallel-item:last-child::after {align-self: flex-start;width: 50%;}#sk-container-id-2 div.sk-parallel-item:only-child::after {width: 0;}#sk-container-id-2 div.sk-dashed-wrapped {border: 1px dashed gray;margin: 0 0.4em 0.5em 0.4em;box-sizing: border-box;padding-bottom: 0.4em;background-color: white;}#sk-container-id-2 div.sk-label label {font-family: monospace;font-weight: bold;display: inline-block;line-height: 1.2em;}#sk-container-id-2 div.sk-label-container {text-align: center;}#sk-container-id-2 div.sk-container {/* jupyter's `normalize.less` sets `[hidden] { display: none; }` but bootstrap.min.css set `[hidden] { display: none !important; }` so we also need the `!important` here to be able to override the default hidden behavior on the sphinx rendered scikit-learn.org. See: https://github.com/scikit-learn/scikit-learn/issues/21755 */display: inline-block !important;position: relative;}#sk-container-id-2 div.sk-text-repr-fallback {display: none;}</style><div id=\"sk-container-id-2\" class=\"sk-top-container\"><div class=\"sk-text-repr-fallback\"><pre>SVR()</pre><b>In a Jupyter environment, please rerun this cell to show the HTML representation or trust the notebook. <br />On GitHub, the HTML representation is unable to render, please try loading this page with nbviewer.org.</b></div><div class=\"sk-container\" hidden><div class=\"sk-item\"><div class=\"sk-estimator sk-toggleable\"><input class=\"sk-toggleable__control sk-hidden--visually\" id=\"sk-estimator-id-2\" type=\"checkbox\" checked><label for=\"sk-estimator-id-2\" class=\"sk-toggleable__label sk-toggleable__label-arrow\">SVR</label><div class=\"sk-toggleable__content\"><pre>SVR()</pre></div></div></div></div></div>"
            ]
          },
          "metadata": {},
          "execution_count": 25
        }
      ]
    },
    {
      "cell_type": "code",
      "source": [
        "\n",
        "lr_predictions = lr.predict(X_test)\n",
        "print(\"Linear Regression MSE :  \", mean_squared_error(y_test,lr_predictions))\n",
        "\n",
        "rf_predictions = best_rf.predict(X_test)\n",
        "print(\"Random Forest MSE :  \", mean_squared_error(y_test, rf_predictions))\n",
        "\n",
        "gb_predictions = gb.predict(X_test)\n",
        "print(\"Gradient Boosting MSE :  \", mean_squared_error(y_test, gb_predictions))\n",
        "\n",
        "svr_predictions = svr.predict(X_test)\n",
        "print(\"SVR MSE :  \", mean_squared_error(y_test, svr_predictions))\n",
        "\n",
        "\n"
      ],
      "metadata": {
        "colab": {
          "base_uri": "https://localhost:8080/"
        },
        "id": "yH7obS9Udf48",
        "outputId": "17479955-8d63-475d-e50c-007963db6fea"
      },
      "execution_count": 39,
      "outputs": [
        {
          "output_type": "stream",
          "name": "stdout",
          "text": [
            "Linear Regression MSE :   0.0015420217606865261\n",
            "Random Forest MSE :   0.0009892907984513967\n",
            "Gradient Boosting MSE :   0.0010891979846405192\n",
            "SVR MSE :   0.003993961663292951\n"
          ]
        }
      ]
    },
    {
      "cell_type": "markdown",
      "source": [
        "# **ACCURACY SCORE AND CONFUSION MATRIX**"
      ],
      "metadata": {
        "id": "6hQLspl2a4ii"
      }
    },
    {
      "cell_type": "code",
      "source": [
        "from sklearn.preprocessing import StandardScaler, LabelEncoder\n",
        "from collections import Counter\n",
        "from sklearn.model_selection import train_test_split\n",
        "from sklearn.metrics import confusion_matrix, classification_report, accuracy_score\n",
        "from sklearn.svm import SVC\n",
        "from sklearn.ensemble import RandomForestClassifier\n",
        "from xgboost import XGBClassifier\n",
        "df = data_without_outliers.copy()\n",
        "categorical_attributes = list(df.select_dtypes(include=['object']).columns)\n",
        "categorical_attributes\n",
        "\n",
        "df=pd.read_csv('city_day.csv',parse_dates=['Date'])\n",
        "raw_df = df\n",
        "\n",
        "df['Date'] = pd.to_datetime(df['Date'])\n",
        "\n",
        "df.info()\n",
        "\n",
        "df['PM2.5']=df['PM2.5'].fillna((df['PM2.5'].median()))\n",
        "df['PM10']=df['PM10'].fillna((df['PM10'].median()))\n",
        "df['NO']=df['NO'].fillna((df['NO'].median()))\n",
        "df['NO2']=df['NO2'].fillna((df['NO2'].median()))\n",
        "df['NOx']=df['NOx'].fillna((df['NOx'].median()))\n",
        "df['NH3']=df['NH3'].fillna((df['NH3'].median()))\n",
        "df['CO']=df['CO'].fillna((df['CO'].median()))\n",
        "df['SO2']=df['SO2'].fillna((df['SO2'].median()))\n",
        "df['O3']=df['O3'].fillna((df['O3'].median()))\n",
        "df['Benzene']=df['Benzene'].fillna((df['Benzene'].median()))\n",
        "df['Toluene']=df['Toluene'].fillna((df['Toluene'].median()))\n",
        "df['Xylene']=df['Xylene'].fillna((df['Xylene'].median()))\n",
        "df['AQI']=df['AQI'].fillna((df['AQI'].median()))\n",
        "df['AQI_Bucket']=df['AQI_Bucket'].fillna('Moderate')\n",
        "\n",
        "df1 = df\n",
        "df.head()\n",
        "\n",
        "df = df[df['Date'] <= ('25-03-2020')]\n",
        "df['Vehicular Pollution content'] = df['PM2.5']+df['PM10']+df['NO']+df['NO2']+df['NOx']+df['NH3']+df['CO']\n",
        "df['Industrial Pollution content'] = df['SO2']+df['O3']+df['Benzene']+df['Toluene']+df['Xylene']\n",
        "df = df.drop(['PM2.5', 'PM10', 'NO', 'NO2', 'NOx', 'NH3', 'CO', 'SO2',\n",
        "       'O3','Benzene','Toluene','Xylene'],axis=1)\n",
        "df.info()\n",
        "\n",
        "df = df1.copy()\n",
        "categorical_attributes = list(df.select_dtypes(include=['object']).columns)\n",
        "categorical_attributes\n",
        "\n",
        "le=LabelEncoder()\n",
        "df['City']=le.fit_transform(df['City'].astype(str))\n",
        "df['AQI_Bucket']=le.fit_transform(df['AQI_Bucket'].astype(str))\n",
        "df.info()\n",
        "\n",
        "y = df[\"AQI_Bucket\"]\n",
        "x = df[['City', 'PM2.5', 'PM10', 'NO', 'NO2', 'NOx', 'NH3', 'CO', 'SO2',\n",
        "       'O3', 'Benzene', 'Toluene', 'Xylene', 'AQI']]\n",
        "X_train, X_test, y_train, y_test = train_test_split(x, y, test_size = 0.2, random_state = 0)\n",
        "\n",
        "print('Classes and number of values in trainset',Counter(y_train))\n",
        "\n",
        "df.AQI_Bucket.unique()\n",
        "\n",
        "from imblearn.over_sampling import SMOTE\n",
        "oversample = SMOTE()\n",
        "X_train,y_train = oversample.fit_resample(X_train,y_train)\n",
        "print('Classes and number of values in trainset after SMOTE:',Counter(y_train))\n",
        "\n",
        "cls=SVC()\n",
        "cls.fit(X_train,y_train)\n",
        "svmpred=cls.predict(X_test)\n",
        "accuracy=accuracy_score(y_test,svmpred)*100\n",
        "print(\"SVM Accuracy = \",accuracy)\n",
        "\n",
        "cm=confusion_matrix(y_test,svmpred)\n",
        "print(\"SVM Confusion matrix\\n\")\n",
        "print(cm)\n"
      ],
      "metadata": {
        "colab": {
          "base_uri": "https://localhost:8080/"
        },
        "id": "eqSlYToK3Lqw",
        "outputId": "c22c31e2-d3b5-4cbd-b5c4-4180077fcfbd"
      },
      "execution_count": 61,
      "outputs": [
        {
          "output_type": "stream",
          "name": "stdout",
          "text": [
            "<class 'pandas.core.frame.DataFrame'>\n",
            "RangeIndex: 29531 entries, 0 to 29530\n",
            "Data columns (total 16 columns):\n",
            " #   Column      Non-Null Count  Dtype         \n",
            "---  ------      --------------  -----         \n",
            " 0   City        29531 non-null  object        \n",
            " 1   Date        29531 non-null  datetime64[ns]\n",
            " 2   PM2.5       24933 non-null  float64       \n",
            " 3   PM10        18391 non-null  float64       \n",
            " 4   NO          25949 non-null  float64       \n",
            " 5   NO2         25946 non-null  float64       \n",
            " 6   NOx         25346 non-null  float64       \n",
            " 7   NH3         19203 non-null  float64       \n",
            " 8   CO          27472 non-null  float64       \n",
            " 9   SO2         25677 non-null  float64       \n",
            " 10  O3          25509 non-null  float64       \n",
            " 11  Benzene     23908 non-null  float64       \n",
            " 12  Toluene     21490 non-null  float64       \n",
            " 13  Xylene      11422 non-null  float64       \n",
            " 14  AQI         24850 non-null  float64       \n",
            " 15  AQI_Bucket  24850 non-null  object        \n",
            "dtypes: datetime64[ns](1), float64(13), object(2)\n",
            "memory usage: 3.6+ MB\n",
            "<class 'pandas.core.frame.DataFrame'>\n",
            "Int64Index: 26983 entries, 0 to 29432\n",
            "Data columns (total 6 columns):\n",
            " #   Column                        Non-Null Count  Dtype         \n",
            "---  ------                        --------------  -----         \n",
            " 0   City                          26983 non-null  object        \n",
            " 1   Date                          26983 non-null  datetime64[ns]\n",
            " 2   AQI                           26983 non-null  float64       \n",
            " 3   AQI_Bucket                    26983 non-null  object        \n",
            " 4   Vehicular Pollution content   26983 non-null  float64       \n",
            " 5   Industrial Pollution content  26983 non-null  float64       \n",
            "dtypes: datetime64[ns](1), float64(3), object(2)\n",
            "memory usage: 1.4+ MB\n"
          ]
        },
        {
          "output_type": "stream",
          "name": "stderr",
          "text": [
            "<ipython-input-61-0598873fb9f1>:37: UserWarning:\n",
            "\n",
            "Parsing dates in DD/MM/YYYY format when dayfirst=False (the default) was specified. This may lead to inconsistently parsed dates! Specify a format to ensure consistent parsing.\n",
            "\n",
            "<ipython-input-61-0598873fb9f1>:38: SettingWithCopyWarning:\n",
            "\n",
            "\n",
            "A value is trying to be set on a copy of a slice from a DataFrame.\n",
            "Try using .loc[row_indexer,col_indexer] = value instead\n",
            "\n",
            "See the caveats in the documentation: https://pandas.pydata.org/pandas-docs/stable/user_guide/indexing.html#returning-a-view-versus-a-copy\n",
            "\n",
            "<ipython-input-61-0598873fb9f1>:39: SettingWithCopyWarning:\n",
            "\n",
            "\n",
            "A value is trying to be set on a copy of a slice from a DataFrame.\n",
            "Try using .loc[row_indexer,col_indexer] = value instead\n",
            "\n",
            "See the caveats in the documentation: https://pandas.pydata.org/pandas-docs/stable/user_guide/indexing.html#returning-a-view-versus-a-copy\n",
            "\n"
          ]
        },
        {
          "output_type": "stream",
          "name": "stdout",
          "text": [
            "<class 'pandas.core.frame.DataFrame'>\n",
            "RangeIndex: 29531 entries, 0 to 29530\n",
            "Data columns (total 16 columns):\n",
            " #   Column      Non-Null Count  Dtype         \n",
            "---  ------      --------------  -----         \n",
            " 0   City        29531 non-null  int64         \n",
            " 1   Date        29531 non-null  datetime64[ns]\n",
            " 2   PM2.5       29531 non-null  float64       \n",
            " 3   PM10        29531 non-null  float64       \n",
            " 4   NO          29531 non-null  float64       \n",
            " 5   NO2         29531 non-null  float64       \n",
            " 6   NOx         29531 non-null  float64       \n",
            " 7   NH3         29531 non-null  float64       \n",
            " 8   CO          29531 non-null  float64       \n",
            " 9   SO2         29531 non-null  float64       \n",
            " 10  O3          29531 non-null  float64       \n",
            " 11  Benzene     29531 non-null  float64       \n",
            " 12  Toluene     29531 non-null  float64       \n",
            " 13  Xylene      29531 non-null  float64       \n",
            " 14  AQI         29531 non-null  float64       \n",
            " 15  AQI_Bucket  29531 non-null  int64         \n",
            "dtypes: datetime64[ns](1), float64(13), int64(2)\n",
            "memory usage: 3.6 MB\n",
            "Classes and number of values in trainset Counter({1: 10749, 3: 6650, 2: 2203, 5: 1854, 4: 1089, 0: 1079})\n",
            "Classes and number of values in trainset after SMOTE: Counter({3: 10749, 1: 10749, 2: 10749, 4: 10749, 0: 10749, 5: 10749})\n",
            "Accuracy =  96.3094633485695\n",
            "Confusion matrix\n",
            "\n",
            "[[ 262    0    0    0    0    0]\n",
            " [   0 2651   52   58    0    0]\n",
            " [   0    0  564    0    0   14]\n",
            " [  84    1    0 1489    0    0]\n",
            " [   0    0    0    0  248    1]\n",
            " [   0    0    1    0    7  475]]\n"
          ]
        }
      ]
    },
    {
      "cell_type": "code",
      "source": [
        "forest = RandomForestClassifier()\n",
        "forest.fit(X_train, y_train)"
      ],
      "metadata": {
        "colab": {
          "base_uri": "https://localhost:8080/",
          "height": 75
        },
        "id": "RCFJnhZm5a-F",
        "outputId": "542f23ea-9fb7-47ec-a0a4-3bb101834ca9"
      },
      "execution_count": 64,
      "outputs": [
        {
          "output_type": "execute_result",
          "data": {
            "text/plain": [
              "RandomForestClassifier()"
            ],
            "text/html": [
              "<style>#sk-container-id-3 {color: black;background-color: white;}#sk-container-id-3 pre{padding: 0;}#sk-container-id-3 div.sk-toggleable {background-color: white;}#sk-container-id-3 label.sk-toggleable__label {cursor: pointer;display: block;width: 100%;margin-bottom: 0;padding: 0.3em;box-sizing: border-box;text-align: center;}#sk-container-id-3 label.sk-toggleable__label-arrow:before {content: \"▸\";float: left;margin-right: 0.25em;color: #696969;}#sk-container-id-3 label.sk-toggleable__label-arrow:hover:before {color: black;}#sk-container-id-3 div.sk-estimator:hover label.sk-toggleable__label-arrow:before {color: black;}#sk-container-id-3 div.sk-toggleable__content {max-height: 0;max-width: 0;overflow: hidden;text-align: left;background-color: #f0f8ff;}#sk-container-id-3 div.sk-toggleable__content pre {margin: 0.2em;color: black;border-radius: 0.25em;background-color: #f0f8ff;}#sk-container-id-3 input.sk-toggleable__control:checked~div.sk-toggleable__content {max-height: 200px;max-width: 100%;overflow: auto;}#sk-container-id-3 input.sk-toggleable__control:checked~label.sk-toggleable__label-arrow:before {content: \"▾\";}#sk-container-id-3 div.sk-estimator input.sk-toggleable__control:checked~label.sk-toggleable__label {background-color: #d4ebff;}#sk-container-id-3 div.sk-label input.sk-toggleable__control:checked~label.sk-toggleable__label {background-color: #d4ebff;}#sk-container-id-3 input.sk-hidden--visually {border: 0;clip: rect(1px 1px 1px 1px);clip: rect(1px, 1px, 1px, 1px);height: 1px;margin: -1px;overflow: hidden;padding: 0;position: absolute;width: 1px;}#sk-container-id-3 div.sk-estimator {font-family: monospace;background-color: #f0f8ff;border: 1px dotted black;border-radius: 0.25em;box-sizing: border-box;margin-bottom: 0.5em;}#sk-container-id-3 div.sk-estimator:hover {background-color: #d4ebff;}#sk-container-id-3 div.sk-parallel-item::after {content: \"\";width: 100%;border-bottom: 1px solid gray;flex-grow: 1;}#sk-container-id-3 div.sk-label:hover label.sk-toggleable__label {background-color: #d4ebff;}#sk-container-id-3 div.sk-serial::before {content: \"\";position: absolute;border-left: 1px solid gray;box-sizing: border-box;top: 0;bottom: 0;left: 50%;z-index: 0;}#sk-container-id-3 div.sk-serial {display: flex;flex-direction: column;align-items: center;background-color: white;padding-right: 0.2em;padding-left: 0.2em;position: relative;}#sk-container-id-3 div.sk-item {position: relative;z-index: 1;}#sk-container-id-3 div.sk-parallel {display: flex;align-items: stretch;justify-content: center;background-color: white;position: relative;}#sk-container-id-3 div.sk-item::before, #sk-container-id-3 div.sk-parallel-item::before {content: \"\";position: absolute;border-left: 1px solid gray;box-sizing: border-box;top: 0;bottom: 0;left: 50%;z-index: -1;}#sk-container-id-3 div.sk-parallel-item {display: flex;flex-direction: column;z-index: 1;position: relative;background-color: white;}#sk-container-id-3 div.sk-parallel-item:first-child::after {align-self: flex-end;width: 50%;}#sk-container-id-3 div.sk-parallel-item:last-child::after {align-self: flex-start;width: 50%;}#sk-container-id-3 div.sk-parallel-item:only-child::after {width: 0;}#sk-container-id-3 div.sk-dashed-wrapped {border: 1px dashed gray;margin: 0 0.4em 0.5em 0.4em;box-sizing: border-box;padding-bottom: 0.4em;background-color: white;}#sk-container-id-3 div.sk-label label {font-family: monospace;font-weight: bold;display: inline-block;line-height: 1.2em;}#sk-container-id-3 div.sk-label-container {text-align: center;}#sk-container-id-3 div.sk-container {/* jupyter's `normalize.less` sets `[hidden] { display: none; }` but bootstrap.min.css set `[hidden] { display: none !important; }` so we also need the `!important` here to be able to override the default hidden behavior on the sphinx rendered scikit-learn.org. See: https://github.com/scikit-learn/scikit-learn/issues/21755 */display: inline-block !important;position: relative;}#sk-container-id-3 div.sk-text-repr-fallback {display: none;}</style><div id=\"sk-container-id-3\" class=\"sk-top-container\"><div class=\"sk-text-repr-fallback\"><pre>RandomForestClassifier()</pre><b>In a Jupyter environment, please rerun this cell to show the HTML representation or trust the notebook. <br />On GitHub, the HTML representation is unable to render, please try loading this page with nbviewer.org.</b></div><div class=\"sk-container\" hidden><div class=\"sk-item\"><div class=\"sk-estimator sk-toggleable\"><input class=\"sk-toggleable__control sk-hidden--visually\" id=\"sk-estimator-id-3\" type=\"checkbox\" checked><label for=\"sk-estimator-id-3\" class=\"sk-toggleable__label sk-toggleable__label-arrow\">RandomForestClassifier</label><div class=\"sk-toggleable__content\"><pre>RandomForestClassifier()</pre></div></div></div></div></div>"
            ]
          },
          "metadata": {},
          "execution_count": 64
        }
      ]
    },
    {
      "cell_type": "code",
      "source": [
        "# Make predictions for the test set\n",
        "y_pred_test = forest.predict(X_test)\n",
        "\n",
        "# View accuracy score\n",
        "accuracy = accuracy_score(y_test, y_pred_test)\n",
        "\n",
        "# View confusion matrix for test data and predictions\n",
        "confusion_matrix(y_test, y_pred_test)\n",
        "\n",
        "print(\"Random Forest Accuracy = \",accuracy)\n",
        "\n",
        "confusion=confusion_matrix(y_test,svmpred)\n",
        "print(\"Random Forest Confusion matrix\\n\",confusion )"
      ],
      "metadata": {
        "colab": {
          "base_uri": "https://localhost:8080/"
        },
        "id": "SM5MitPz5yve",
        "outputId": "f5ff9d9f-7fb9-4f1b-f939-053c1c4c8760"
      },
      "execution_count": 73,
      "outputs": [
        {
          "output_type": "stream",
          "name": "stdout",
          "text": [
            "Random Forest Accuracy =  0.999661418655832\n",
            "Random Forest Confusion matrix\n",
            " [[ 262    0    0    0    0    0]\n",
            " [   0 2651   52   58    0    0]\n",
            " [   0    0  564    0    0   14]\n",
            " [  84    1    0 1489    0    0]\n",
            " [   0    0    0    0  248    1]\n",
            " [   0    0    1    0    7  475]]\n"
          ]
        }
      ]
    },
    {
      "cell_type": "code",
      "source": [
        "from sklearn.ensemble import GradientBoostingClassifier\n",
        "grad_booster = GradientBoostingClassifier()\n",
        "\n",
        "grad_booster.fit(X_train, y_train)\n",
        "\n",
        "# Make predictions for the test set\n",
        "y_pred_test = grad_booster.predict(X_test)\n",
        "\n",
        "# View accuracy score\n",
        "accuracy = accuracy_score(y_test, y_pred_test)\n",
        "\n",
        "# View confusion matrix for test data and predictions\n",
        "confusion_matrix(y_test, y_pred_test)\n",
        "\n",
        "print(\"Gradient Boosting Accuracy = \",accuracy)\n",
        "\n",
        "confusion=confusion_matrix(y_test,svmpred)\n",
        "print(\"Gradient Boosting Confusion matrix\\n\",confusion )\n",
        "\n",
        "\n",
        "\n",
        "\n"
      ],
      "metadata": {
        "colab": {
          "base_uri": "https://localhost:8080/"
        },
        "id": "hJSJHcii6BNV",
        "outputId": "8e8a65fd-385a-41a6-af86-ae5ee09e2d9f"
      },
      "execution_count": 74,
      "outputs": [
        {
          "output_type": "stream",
          "name": "stdout",
          "text": [
            "Gradient Boosting Accuracy =  1.0\n",
            "Gradient Boosting Confusion matrix\n",
            " [[ 262    0    0    0    0    0]\n",
            " [   0 2651   52   58    0    0]\n",
            " [   0    0  564    0    0   14]\n",
            " [  84    1    0 1489    0    0]\n",
            " [   0    0    0    0  248    1]\n",
            " [   0    0    1    0    7  475]]\n"
          ]
        }
      ]
    }
  ]
}